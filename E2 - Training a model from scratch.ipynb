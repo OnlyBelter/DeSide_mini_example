{
 "cells": [
  {
   "cell_type": "code",
   "execution_count": 1,
   "id": "f8da06a5-c55a-444f-90a8-aa02d04d1ba1",
   "metadata": {},
   "outputs": [],
   "source": [
    "import os\n",
    "from deside.utility import check_dir, sorted_cell_types\n",
    "from deside.decon_cf import DeSide"
   ]
  },
  {
   "cell_type": "markdown",
   "id": "240e05a7-9d8a-4303-9eca-a118f192774f",
   "metadata": {},
   "source": [
    "### Training a model from scrach\n",
    "- No GUP was used for this example\n",
    "- iMac (this example): 6-Core Intel Core i5, 16 GB memory\n",
    "- For larger training set, more memory is needed, we trained `DeSide` with D1+D2 on a computing server."
   ]
  },
  {
   "cell_type": "code",
   "execution_count": 2,
   "id": "3fbefc7a-051e-4bb4-925e-fc3faed482ed",
   "metadata": {},
   "outputs": [],
   "source": [
    "# create output directory\n",
    "result_dir = './results/E2'\n",
    "check_dir(result_dir)"
   ]
  },
  {
   "cell_type": "markdown",
   "id": "152e68ab-9650-4c3d-93fe-d74b5da6bac1",
   "metadata": {},
   "source": [
    "#### Using D2 as the training set\n",
    "\n",
    "- At least 16 GB memory is needed to reproduce the training process on this training set"
   ]
  },
  {
   "cell_type": "code",
   "execution_count": 3,
   "id": "a1c0f036-e491-409e-b5e1-745e19e2c579",
   "metadata": {},
   "outputs": [
    {
     "data": {
      "text/plain": [
       "{'D2': './datasets/simulated_bulk_cell_dataset/segment_7ds_0.95_n_base100_median_gep/simu_bulk_exp_Mixed_N100K_segment_log2cpm1p_filtered_by_high_corr_gene_and_quantile_range_q_5.0_q_95.0.h5ad'}"
      ]
     },
     "execution_count": 3,
     "metadata": {},
     "output_type": "execute_result"
    }
   ],
   "source": [
    "training_set2file_path = {\n",
    "    'D2': './datasets/simulated_bulk_cell_dataset/segment_7ds_0.95_n_base100_median_gep/simu_bulk_exp_Mixed_N100K_segment_log2cpm1p_filtered_by_high_corr_gene_and_quantile_range_q_5.0_q_95.0.h5ad',\n",
    "}\n",
    "training_set2file_path"
   ]
  },
  {
   "cell_type": "code",
   "execution_count": 4,
   "id": "b0e03682-3c5c-4dd9-b70b-932c1d4f31d0",
   "metadata": {},
   "outputs": [
    {
     "data": {
      "text/plain": [
       "['B Cells',\n",
       " 'CD4 T',\n",
       " 'CD8 T',\n",
       " 'Cancer Cells',\n",
       " 'DC',\n",
       " 'Endothelial Cells',\n",
       " 'Fibroblasts',\n",
       " 'Macrophages',\n",
       " 'Mast Cells',\n",
       " 'NK',\n",
       " 'Neutrophils']"
      ]
     },
     "execution_count": 4,
     "metadata": {},
     "output_type": "execute_result"
    }
   ],
   "source": [
    "all_cell_types = sorted_cell_types\n",
    "all_cell_types"
   ]
  },
  {
   "cell_type": "markdown",
   "id": "15cc0643-64f1-4f14-a609-07db9d5dfa79",
   "metadata": {},
   "source": [
    "#### Hyper-parameters"
   ]
  },
  {
   "cell_type": "code",
   "execution_count": 5,
   "id": "3c685277-daf4-4058-81b6-5ea49525768e",
   "metadata": {},
   "outputs": [],
   "source": [
    "deside_parameters = {'architecture': ([100, 1000, 1000, 1000, 50],\n",
    "                                      [0, 0, 0, 0.2, 0]),\n",
    "                     'loss_function': 'mae+rmse',\n",
    "                     'batch_normalization': False,\n",
    "                     'last_layer_activation': 'sigmoid',\n",
    "                     'learning_rate': 2e-5,\n",
    "                     'batch_size': 128}"
   ]
  },
  {
   "cell_type": "code",
   "execution_count": 6,
   "id": "3358230c-edf8-46df-ad7e-582a144429e2",
   "metadata": {},
   "outputs": [],
   "source": [
    "# remove cancer cell during training process\n",
    "remove_cancer_cell = True"
   ]
  },
  {
   "cell_type": "code",
   "execution_count": 7,
   "id": "ba273329-12c8-4a11-84bb-be95175b5e9b",
   "metadata": {},
   "outputs": [
    {
     "name": "stdout",
     "output_type": "stream",
     "text": [
      "\n",
      "---->>> Start to training model... <<<----\n",
      "Wed May 10 18:09:52 2023\n",
      "\n",
      "---->>> Start to reading training set... <<<----\n",
      "Wed May 10 18:09:52 2023\n",
      "x shape: (100000, 6168) ./datasets/simulated_bulk_cell_dataset/segment_7ds_0.95_n_base100_median_gep/simu_bulk_exp_Mixed_N100K_segment_log2cpm1p_filtered_by_high_corr_gene_and_quantile_range_q_5.0_q_95.0.h5ad\n",
      "x head:                      A2M  A4GALT  AAMDC   AASS   AATK   ABAT  ABCA2  ABCA6  \\\n",
      "s_segment_0_1033  10.331   5.966  7.303  5.004  3.614  4.240  4.475  0.639   \n",
      "s_segment_0_104    6.212   4.301  7.276  3.197  3.697  4.443  4.908  1.425   \n",
      "s_segment_0_110    9.067   4.629  6.899  3.268  3.012  3.486  4.350  2.659   \n",
      "s_segment_0_116    9.509   5.119  6.869  4.485  2.085  3.625  4.855  4.987   \n",
      "s_segment_0_1207   6.504   3.378  6.593  2.929  3.310  4.280  5.046  1.820   \n",
      "\n",
      "                  ABCA7  ABCB1  ...  ZSCAN18  ZSCAN30  ZSCAN9  ZSWIM4  ZSWIM6  \\\n",
      "s_segment_0_1033  5.443  5.662  ...    6.446    4.486   4.127   5.560   5.451   \n",
      "s_segment_0_104   5.549  1.853  ...    4.542    2.445   3.366   4.187   5.241   \n",
      "s_segment_0_110   5.001  3.542  ...    5.244    4.037   3.801   4.843   6.023   \n",
      "s_segment_0_116   4.629  4.354  ...    5.773    3.513   3.566   4.827   5.931   \n",
      "s_segment_0_1207  5.074  3.509  ...    5.653    2.662   3.765   5.584   5.475   \n",
      "\n",
      "                  ZSWIM8  ZWINT  ZYG11B    ZYX  ZZEF1  \n",
      "s_segment_0_1033   5.401  5.447   5.131  7.573  5.320  \n",
      "s_segment_0_104    5.989  6.485   4.922  7.531  5.464  \n",
      "s_segment_0_110    5.424  5.478   4.904  8.093  5.087  \n",
      "s_segment_0_116    5.872  4.224   6.256  7.988  5.736  \n",
      "s_segment_0_1207   5.136  4.938   5.596  7.187  5.584  \n",
      "\n",
      "[5 rows x 6168 columns]\n",
      "   Using cell types: ['B Cells', 'CD4 T', 'CD8 T', 'DC', 'Endothelial Cells', 'Fibroblasts', 'Macrophages', 'Mast Cells', 'NK', 'Neutrophils']\n",
      "   The shape of X is: (100000, 6168), (n_sample, n_gene)\n",
      "   The shape of y is: (100000, 10), (n_sample, n_cell_type)\n"
     ]
    },
    {
     "name": "stderr",
     "output_type": "stream",
     "text": [
      "2023-05-10 18:11:36.816176: I tensorflow/core/platform/cpu_feature_guard.cc:151] This TensorFlow binary is optimized with oneAPI Deep Neural Network Library (oneDNN) to use the following CPU instructions in performance-critical operations:  AVX2 FMA\n",
      "To enable them in other operations, rebuild TensorFlow with the appropriate compiler flags.\n"
     ]
    },
    {
     "name": "stdout",
     "output_type": "stream",
     "text": [
      "Model: \"DeSide\"\n",
      "_________________________________________________________________\n",
      " Layer (type)                Output Shape              Param #   \n",
      "=================================================================\n",
      " input (InputLayer)          [(None, 6168)]            0         \n",
      "                                                                 \n",
      " dense (Dense)               (None, 100)               616900    \n",
      "                                                                 \n",
      " dense_1 (Dense)             (None, 1000)              101000    \n",
      "                                                                 \n",
      " dense_2 (Dense)             (None, 1000)              1001000   \n",
      "                                                                 \n",
      " dense_3 (Dense)             (None, 1000)              1001000   \n",
      "                                                                 \n",
      " dropout (Dropout)           (None, 1000)              0         \n",
      "                                                                 \n",
      " dense_4 (Dense)             (None, 50)                50050     \n",
      "                                                                 \n",
      " dense_5 (Dense)             (None, 10)                510       \n",
      "                                                                 \n",
      "=================================================================\n",
      "Total params: 2,770,460\n",
      "Trainable params: 2,770,460\n",
      "Non-trainable params: 0\n",
      "_________________________________________________________________\n",
      "None\n",
      "   Key parameters during model training will be saved in ./results/E2/DeSide_model/key_params.txt.\n",
      "\n",
      "---->>> Training done. <<<----\n",
      "Wed May 10 21:47:54 2023\n"
     ]
    }
   ],
   "source": [
    "# set result dirtory to save DeSide model\n",
    "model_dir = os.path.join(result_dir, 'DeSide_model')\n",
    "log_file_path = os.path.join(result_dir, 'deside_running_log.txt')\n",
    "deside_obj = DeSide(model_dir=model_dir, log_file_path=log_file_path)\n",
    "\n",
    "# training DeSide\n",
    "# - training_set_file_path is a list, multiple datasets will be combined together\n",
    "deside_obj.train_model(training_set_file_path=[training_set2file_path['D2']], \n",
    "                       hyper_params=deside_parameters, cell_types=all_cell_types,\n",
    "                       scaling_by_constant=True, scaling_by_sample=False,\n",
    "                       remove_cancer_cell=remove_cancer_cell,\n",
    "                       n_patience=100, n_epoch=3000, verbose=0)"
   ]
  },
  {
   "cell_type": "code",
   "execution_count": 9,
   "id": "5c4358cb-b10d-4349-9c09-5872542ace46",
   "metadata": {},
   "outputs": [
    {
     "data": {
      "text/html": [
       "<img src=\"./results/E2/DeSide_model/loss.png\" width=\"1200\"/>"
      ],
      "text/plain": [
       "<IPython.core.display.Image object>"
      ]
     },
     "execution_count": 9,
     "metadata": {},
     "output_type": "execute_result"
    }
   ],
   "source": [
    "from IPython.display import Image\n",
    "Image(url= \"./results/E2/DeSide_model/loss.png\", width=1200)"
   ]
  },
  {
   "cell_type": "code",
   "execution_count": null,
   "id": "1aec47c1-fe97-49a8-ac30-a93c922e81b8",
   "metadata": {},
   "outputs": [],
   "source": []
  }
 ],
 "metadata": {
  "kernelspec": {
   "display_name": "Python 3 (ipykernel)",
   "language": "python",
   "name": "python3"
  },
  "language_info": {
   "codemirror_mode": {
    "name": "ipython",
    "version": 3
   },
   "file_extension": ".py",
   "mimetype": "text/x-python",
   "name": "python",
   "nbconvert_exporter": "python",
   "pygments_lexer": "ipython3",
   "version": "3.8.13"
  }
 },
 "nbformat": 4,
 "nbformat_minor": 5
}
