{
 "cells": [
  {
   "cell_type": "code",
   "execution_count": 1,
   "id": "f8da06a5-c55a-444f-90a8-aa02d04d1ba1",
   "metadata": {},
   "outputs": [
    {
     "name": "stderr",
     "output_type": "stream",
     "text": [
      "2024-02-02 20:16:59.240954: I tensorflow/core/platform/cpu_feature_guard.cc:193] This TensorFlow binary is optimized with oneAPI Deep Neural Network Library (oneDNN) to use the following CPU instructions in performance-critical operations:  AVX2 AVX512F FMA\n",
      "To enable them in other operations, rebuild TensorFlow with the appropriate compiler flags.\n",
      "2024-02-02 20:17:00.088493: W tensorflow/compiler/xla/stream_executor/platform/default/dso_loader.cc:64] Could not load dynamic library 'libnvinfer.so.7'; dlerror: libnvinfer.so.7: cannot open shared object file: No such file or directory\n",
      "2024-02-02 20:17:00.088585: W tensorflow/compiler/xla/stream_executor/platform/default/dso_loader.cc:64] Could not load dynamic library 'libnvinfer_plugin.so.7'; dlerror: libnvinfer_plugin.so.7: cannot open shared object file: No such file or directory\n",
      "2024-02-02 20:17:00.088597: W tensorflow/compiler/tf2tensorrt/utils/py_utils.cc:38] TF-TRT Warning: Cannot dlopen some TensorRT libraries. If you would like to use Nvidia GPU with TensorRT, please make sure the missing libraries mentioned above are installed properly.\n"
     ]
    }
   ],
   "source": [
    "import os\n",
    "import pandas as pd\n",
    "import tensorflow as tf\n",
    "from deside.utility import check_dir, sorted_cell_types\n",
    "from deside.decon_cf import DeSide\n",
    "from deside.utility.read_file import read_gene_set\n",
    "import deside"
   ]
  },
  {
   "cell_type": "markdown",
   "id": "240e05a7-9d8a-4303-9eca-a118f192774f",
   "metadata": {},
   "source": [
    "### Training a model from scrach\n",
    "- Using MacOS: 6-Core Intel Core i5, 32 GB memory (No GPU will take ~7 hours to train the model)\n",
    "- Using computing server: Intel(R) Xeon(R) Gold 6154 CPU @ 3.00GHz (72), 251 GB memory (32 GB should be enough), Using 1 NVIDIA Tesla V100 GPU will take ~1.5 hours\n",
    "- A larger training set needs more memory. (we trained `DeSide` with dataset `D1+D2` on a computing server)"
   ]
  },
  {
   "cell_type": "code",
   "execution_count": 2,
   "id": "45b907b9-fe44-4e12-80ce-2da3f4d824e4",
   "metadata": {},
   "outputs": [
    {
     "data": {
      "text/plain": [
       "'1.2.1'"
      ]
     },
     "execution_count": 2,
     "metadata": {},
     "output_type": "execute_result"
    }
   ],
   "source": [
    "deside.__version__"
   ]
  },
  {
   "cell_type": "code",
   "execution_count": 3,
   "id": "3fbefc7a-051e-4bb4-925e-fc3faed482ed",
   "metadata": {},
   "outputs": [],
   "source": [
    "# create output directory\n",
    "result_dir = './results/E2'\n",
    "check_dir(result_dir)\n",
    "dataset_dir = './datasets/'"
   ]
  },
  {
   "cell_type": "markdown",
   "id": "152e68ab-9650-4c3d-93fe-d74b5da6bac1",
   "metadata": {},
   "source": [
    "#### Input file (training set)\n",
    "- `simu_bulk_exp_Mixed_N100K_D1.h5ad`: Dataset D1 contains the synthesized bulk gene expression profiles (GEPs) after filtering. Download link: https://doi.org/10.6084/m9.figshare.23047391.v2"
   ]
  },
  {
   "cell_type": "code",
   "execution_count": 4,
   "id": "a1c0f036-e491-409e-b5e1-745e19e2c579",
   "metadata": {},
   "outputs": [
    {
     "data": {
      "text/plain": [
       "{'D1': './datasets/simulated_bulk_cell_dataset/D1/simu_bulk_exp_Mixed_N100K_D1.h5ad'}"
      ]
     },
     "execution_count": 4,
     "metadata": {},
     "output_type": "execute_result"
    }
   ],
   "source": [
    "training_set2file_path = {\n",
    "    'D1': './datasets/simulated_bulk_cell_dataset/D1/simu_bulk_exp_Mixed_N100K_D1.h5ad',\n",
    "}\n",
    "training_set2file_path"
   ]
  },
  {
   "cell_type": "code",
   "execution_count": 5,
   "id": "b0e03682-3c5c-4dd9-b70b-932c1d4f31d0",
   "metadata": {},
   "outputs": [
    {
     "data": {
      "text/plain": [
       "['Plasma B cells',\n",
       " 'Non-plasma B cells',\n",
       " 'CD4 T',\n",
       " 'CD8 T effector',\n",
       " 'CD8 T (GZMK high)',\n",
       " 'Double-neg-like T',\n",
       " 'Cancer Cells',\n",
       " 'DC',\n",
       " 'Endothelial Cells',\n",
       " 'CAFs',\n",
       " 'Myofibroblasts',\n",
       " 'Macrophages',\n",
       " 'Mast Cells',\n",
       " 'NK',\n",
       " 'Neutrophils',\n",
       " 'Monocytes']"
      ]
     },
     "execution_count": 5,
     "metadata": {},
     "output_type": "execute_result"
    }
   ],
   "source": [
    "cell_type2subtypes = {'B Cells': ['Non-plasma B cells', 'Plasma B cells'],\n",
    "                      'CD4 T': ['CD4 T'], 'CD8 T': ['CD8 T (GZMK high)', 'CD8 T effector'],\n",
    "                      'DC': ['DC'], 'Endothelial Cells': ['Endothelial Cells'],\n",
    "                      'Cancer Cells': ['Cancer Cells'],\n",
    "                      'Fibroblasts': ['CAFs', 'Myofibroblasts'], 'Macrophages': ['Macrophages'],\n",
    "                      'Mast Cells': ['Mast Cells'], 'NK': ['NK'], 'Neutrophils': ['Neutrophils'],\n",
    "                      'Double-neg-like T': ['Double-neg-like T'], 'Monocytes': ['Monocytes']}\n",
    "all_cell_types = sorted([i for v in cell_type2subtypes.values() for i in v])\n",
    "all_cell_types = [i for i in sorted_cell_types if i in all_cell_types]\n",
    "all_cell_types # all cell types that DeSide can predict"
   ]
  },
  {
   "cell_type": "markdown",
   "id": "15cc0643-64f1-4f14-a609-07db9d5dfa79",
   "metadata": {},
   "source": [
    "#### Hyper-parameters and gene sets "
   ]
  },
  {
   "cell_type": "code",
   "execution_count": 6,
   "id": "9c379699-e979-4ff8-8654-795ec8f8ebd8",
   "metadata": {},
   "outputs": [],
   "source": [
    "# hyper-parameters of the DNN model\n",
    "deside_parameters = {\n",
    "    'architecture': ([200, 2000, 2000, 2000, 50], [0.05, 0.05, 0.05, 0.2, 0]),\n",
    "    'architecture_for_pathway_network': ([50, 500, 500, 500, 50], [0, 0, 0, 0, 0]),\n",
    "    'loss_function_alpha': 0.5,  # alpha*mae + (1-alpha)*rmse, mae means mean absolute error\n",
    "    'normalization': 'layer_normalization',  # batch_normalization / layer_normalization / None\n",
    "     # 1 means to add a normalization layer, input | the first hidden layer | ... | output\n",
    "    'normalization_layer': [0, 0, 1, 1, 1, 1],  # 1 more parameter than the number of hidden layers\n",
    "    'pathway_network': True,  # using an independent pathway network\n",
    "    'last_layer_activation': 'sigmoid',  # sigmoid / softmax\n",
    "    'learning_rate': 1e-4,\n",
    "    'batch_size': 128}\n",
    "\n",
    "# read two gene sets as pathway mask\n",
    "gene_set_file_path1 = os.path.join(dataset_dir, 'gene_set', 'c2.cp.kegg.v2023.1.Hs.symbols.gmt')\n",
    "gene_set_file_path2 = os.path.join(dataset_dir, 'gene_set', 'c2.cp.reactome.v2023.1.Hs.symbols.gmt')\n",
    "all_pathway_files = [gene_set_file_path1, gene_set_file_path2]\n",
    "pathway_mask = read_gene_set(all_pathway_files)  # genes by pathways\n",
    "\n",
    "# filtered gene list (gene-level filtering, filtered by correlation coefficients and quantiles)\n",
    "filtered_gene_list = None  # for other datasets\n",
    "if list(training_set2file_path.keys())[0] == 'D1':\n",
    "    filtered_gene_file_path = os.path.join(dataset_dir, 'simulated_bulk_cell_dataset/D1/gene_list_filtered_by_high_corr_gene_and_quantile_range.csv')\n",
    "    filtered_gene_list = pd.read_csv(filtered_gene_file_path, index_col=0).index.to_list()\n",
    "\n",
    "# input gene list type for pathway profiles\n",
    "input_gene_list = 'filtered_genes'"
   ]
  },
  {
   "cell_type": "code",
   "execution_count": 7,
   "id": "3358230c-edf8-46df-ad7e-582a144429e2",
   "metadata": {},
   "outputs": [],
   "source": [
    "# remove cancer cell during training process\n",
    "remove_cancer_cell = True"
   ]
  },
  {
   "cell_type": "markdown",
   "id": "61f77240-de4b-4301-9259-b52ea36d5da3",
   "metadata": {},
   "source": [
    "#### Training"
   ]
  },
  {
   "cell_type": "code",
   "execution_count": 8,
   "id": "08894bc8-e54e-48b1-88f5-23f5ad6048fa",
   "metadata": {},
   "outputs": [
    {
     "name": "stdout",
     "output_type": "stream",
     "text": [
      ">>> Physical GPUs: [PhysicalDevice(name='/physical_device:GPU:0', device_type='GPU'), PhysicalDevice(name='/physical_device:GPU:1', device_type='GPU'), PhysicalDevice(name='/physical_device:GPU:2', device_type='GPU')]\n",
      "3 Physical GPUs, 1 Logical GPU\n"
     ]
    },
    {
     "name": "stderr",
     "output_type": "stream",
     "text": [
      "2024-02-02 20:17:14.040087: I tensorflow/core/platform/cpu_feature_guard.cc:193] This TensorFlow binary is optimized with oneAPI Deep Neural Network Library (oneDNN) to use the following CPU instructions in performance-critical operations:  AVX2 AVX512F FMA\n",
      "To enable them in other operations, rebuild TensorFlow with the appropriate compiler flags.\n",
      "2024-02-02 20:17:14.840872: I tensorflow/core/common_runtime/gpu/gpu_device.cc:1613] Created device /job:localhost/replica:0/task:0/device:GPU:0 with 30971 MB memory:  -> device: 2, name: Tesla V100-PCIE-32GB, pci bus id: 0000:d8:00.0, compute capability: 7.0\n"
     ]
    }
   ],
   "source": [
    "# set up 1 GPU\n",
    "physical_devices = tf.config.list_physical_devices('GPU')\n",
    "print('>>> Physical GPUs:', physical_devices)\n",
    "try:\n",
    "    # Disable first GPU\n",
    "    tf.config.set_visible_devices(physical_devices[2], 'GPU')\n",
    "    logical_devices = tf.config.list_logical_devices('GPU')\n",
    "    # Logical device was not created for first GPU\n",
    "    assert len(logical_devices) == len(physical_devices) - 2\n",
    "    print(len(physical_devices), \"Physical GPUs,\", len(logical_devices), \"Logical GPU\")\n",
    "except:\n",
    "    # Invalid device or cannot modify virtual devices once initialized.\n",
    "    pass"
   ]
  },
  {
   "cell_type": "code",
   "execution_count": 9,
   "id": "ba273329-12c8-4a11-84bb-be95175b5e9b",
   "metadata": {},
   "outputs": [
    {
     "name": "stdout",
     "output_type": "stream",
     "text": [
      "\n",
      "---->>> Start to training model... <<<----\n",
      "Fri Feb  2 20:17:14 2024\n",
      "\n",
      "---->>> Start to reading training set... <<<----\n",
      "Fri Feb  2 20:17:14 2024\n",
      "x shape: (100000, 9028) ./datasets/simulated_bulk_cell_dataset/D1/simu_bulk_exp_Mixed_N100K_D1.h5ad\n",
      "x head:                      A1BG     A2M  A4GALT  AADAT  AAGAB  AAMDC   AAMP   AARD  \\\n",
      "s_segment_0_1008_0  6.632  10.282   5.517  3.008  4.778  6.432  6.503  1.676   \n",
      "s_segment_0_101_0   5.945   9.280   4.701  2.224  4.836  6.211  6.906  2.307   \n",
      "s_segment_0_1041_0  5.720  10.101   5.148  1.814  4.291  6.338  5.983  0.663   \n",
      "s_segment_0_1065_0  5.850   4.258   3.562  4.564  5.534  6.669  6.729  2.840   \n",
      "s_segment_0_1078_0  6.212   9.284   4.278  1.711  4.282  5.880  6.577  1.516   \n",
      "\n",
      "                     AASS   AATF  ...  ZPBP2   ZPR1  ZRANB1  ZSCAN18  ZSWIM4  \\\n",
      "s_segment_0_1008_0  5.298  5.653  ...  0.000  3.044   4.522    5.748   3.381   \n",
      "s_segment_0_101_0   3.888  6.014  ...  0.000  5.127   5.263    5.357   3.816   \n",
      "s_segment_0_1041_0  4.435  5.466  ...  0.000  4.306   5.059    5.772   2.956   \n",
      "s_segment_0_1065_0  2.609  6.369  ...  0.000  5.337   5.215    4.721   4.371   \n",
      "s_segment_0_1078_0  3.700  5.861  ...  0.072  4.342   4.801    4.224   4.104   \n",
      "\n",
      "                    ZSWIM6  ZSWIM8  ZWINT    ZYX  ZZEF1  \n",
      "s_segment_0_1008_0   4.516   5.167  3.274  7.170  4.472  \n",
      "s_segment_0_101_0    5.061   5.219  5.343  7.273  4.507  \n",
      "s_segment_0_1041_0   5.993   5.060  2.984  7.350  4.888  \n",
      "s_segment_0_1065_0   4.955   4.952  6.083  6.963  4.623  \n",
      "s_segment_0_1078_0   5.999   4.762  4.305  7.489  4.739  \n",
      "\n",
      "[5 rows x 9028 columns]\n",
      "common genes between training set and pathway mask: 5462\n",
      "genes only in training set: 3566\n",
      "x shape: (100000, 10868)\n",
      "   Use the following cell types: ['Plasma B cells', 'Non-plasma B cells', 'CD4 T', 'CD8 T effector', 'CD8 T (GZMK high)', 'Double-neg-like T', 'DC', 'Endothelial Cells', 'CAFs', 'Myofibroblasts', 'Macrophages', 'Mast Cells', 'NK', 'Neutrophils', 'Monocytes'] during training.\n",
      "   The shape of X is: (100000, 10868), (n_sample, n_gene)\n",
      "   The shape of y is: (100000, 15), (n_sample, n_cell_type)\n",
      "   The following loss function will be used: 0.5 * mae + 0.5 * rmse\n",
      "Model: \"DeSide\"\n",
      "__________________________________________________________________________________________________\n",
      " Layer (type)                   Output Shape         Param #     Connected to                     \n",
      "==================================================================================================\n",
      " gep (InputLayer)               [(None, 9028)]       0           []                               \n",
      "                                                                                                  \n",
      " dense (Dense)                  (None, 200)          1805800     ['gep[0][0]']                    \n",
      "                                                                                                  \n",
      " dropout (Dropout)              (None, 200)          0           ['dense[0][0]']                  \n",
      "                                                                                                  \n",
      " dense_1 (Dense)                (None, 2000)         400000      ['dropout[0][0]']                \n",
      "                                                                                                  \n",
      " layer_normalization (LayerNorm  (None, 2000)        4000        ['dense_1[0][0]']                \n",
      " alization)                                                                                       \n",
      "                                                                                                  \n",
      " pathway_profile (InputLayer)   [(None, 1840)]       0           []                               \n",
      "                                                                                                  \n",
      " activation (Activation)        (None, 2000)         0           ['layer_normalization[0][0]']    \n",
      "                                                                                                  \n",
      " dense_5 (Dense)                (None, 50)           92050       ['pathway_profile[0][0]']        \n",
      "                                                                                                  \n",
      " dropout_1 (Dropout)            (None, 2000)         0           ['activation[0][0]']             \n",
      "                                                                                                  \n",
      " dense_6 (Dense)                (None, 500)          25000       ['dense_5[0][0]']                \n",
      "                                                                                                  \n",
      " dense_2 (Dense)                (None, 2000)         4000000     ['dropout_1[0][0]']              \n",
      "                                                                                                  \n",
      " layer_normalization_4 (LayerNo  (None, 500)         1000        ['dense_6[0][0]']                \n",
      " rmalization)                                                                                     \n",
      "                                                                                                  \n",
      " layer_normalization_1 (LayerNo  (None, 2000)        4000        ['dense_2[0][0]']                \n",
      " rmalization)                                                                                     \n",
      "                                                                                                  \n",
      " activation_4 (Activation)      (None, 500)          0           ['layer_normalization_4[0][0]']  \n",
      "                                                                                                  \n",
      " activation_1 (Activation)      (None, 2000)         0           ['layer_normalization_1[0][0]']  \n",
      "                                                                                                  \n",
      " dense_7 (Dense)                (None, 500)          250000      ['activation_4[0][0]']           \n",
      "                                                                                                  \n",
      " dropout_2 (Dropout)            (None, 2000)         0           ['activation_1[0][0]']           \n",
      "                                                                                                  \n",
      " layer_normalization_5 (LayerNo  (None, 500)         1000        ['dense_7[0][0]']                \n",
      " rmalization)                                                                                     \n",
      "                                                                                                  \n",
      " dense_3 (Dense)                (None, 2000)         4000000     ['dropout_2[0][0]']              \n",
      "                                                                                                  \n",
      " activation_5 (Activation)      (None, 500)          0           ['layer_normalization_5[0][0]']  \n",
      "                                                                                                  \n",
      " layer_normalization_2 (LayerNo  (None, 2000)        4000        ['dense_3[0][0]']                \n",
      " rmalization)                                                                                     \n",
      "                                                                                                  \n",
      " dense_8 (Dense)                (None, 500)          250000      ['activation_5[0][0]']           \n",
      "                                                                                                  \n",
      " activation_2 (Activation)      (None, 2000)         0           ['layer_normalization_2[0][0]']  \n",
      "                                                                                                  \n",
      " layer_normalization_6 (LayerNo  (None, 500)         1000        ['dense_8[0][0]']                \n",
      " rmalization)                                                                                     \n",
      "                                                                                                  \n",
      " dropout_3 (Dropout)            (None, 2000)         0           ['activation_2[0][0]']           \n",
      "                                                                                                  \n",
      " activation_6 (Activation)      (None, 500)          0           ['layer_normalization_6[0][0]']  \n",
      "                                                                                                  \n",
      " dense_4 (Dense)                (None, 50)           100000      ['dropout_3[0][0]']              \n",
      "                                                                                                  \n",
      " dense_9 (Dense)                (None, 50)           25000       ['activation_6[0][0]']           \n",
      "                                                                                                  \n",
      " layer_normalization_3 (LayerNo  (None, 50)          100         ['dense_4[0][0]']                \n",
      " rmalization)                                                                                     \n",
      "                                                                                                  \n",
      " layer_normalization_7 (LayerNo  (None, 50)          100         ['dense_9[0][0]']                \n",
      " rmalization)                                                                                     \n",
      "                                                                                                  \n",
      " activation_3 (Activation)      (None, 50)           0           ['layer_normalization_3[0][0]']  \n",
      "                                                                                                  \n",
      " activation_7 (Activation)      (None, 50)           0           ['layer_normalization_7[0][0]']  \n",
      "                                                                                                  \n",
      " concatenate (Concatenate)      (None, 100)          0           ['activation_3[0][0]',           \n",
      "                                                                  'activation_7[0][0]']           \n",
      "                                                                                                  \n",
      " dense_10 (Dense)               (None, 50)           5050        ['concatenate[0][0]']            \n",
      "                                                                                                  \n",
      " dense_11 (Dense)               (None, 15)           765         ['dense_10[0][0]']               \n",
      "                                                                                                  \n",
      "==================================================================================================\n",
      "Total params: 10,968,865\n",
      "Trainable params: 10,968,865\n",
      "Non-trainable params: 0\n",
      "__________________________________________________________________________________________________\n",
      "None\n"
     ]
    },
    {
     "name": "stderr",
     "output_type": "stream",
     "text": [
      "2024-02-02 20:22:18.585280: I tensorflow/compiler/xla/stream_executor/cuda/cuda_dnn.cc:428] Loaded cuDNN version 8400\n",
      "2024-02-02 20:22:18.690407: I tensorflow/compiler/xla/service/service.cc:173] XLA service 0x7fabec00df90 initialized for platform CUDA (this does not guarantee that XLA will be used). Devices:\n",
      "2024-02-02 20:22:18.690587: I tensorflow/compiler/xla/service/service.cc:181]   StreamExecutor device (0): Tesla V100-PCIE-32GB, Compute Capability 7.0\n",
      "2024-02-02 20:22:18.696544: I tensorflow/compiler/mlir/tensorflow/utils/dump_mlir_util.cc:268] disabling MLIR crash reproducer, set env var `MLIR_CRASH_REPRODUCER_DIRECTORY` to enable.\n",
      "2024-02-02 20:22:22.135791: I tensorflow/compiler/jit/xla_compilation_cache.cc:477] Compiled cluster using XLA!  This line is logged at most once for the lifetime of the process.\n"
     ]
    },
    {
     "name": "stdout",
     "output_type": "stream",
     "text": [
      "   Key parameters during model training will be saved in ./results/E2/DeSide_model/key_params.txt.\n",
      "\n",
      "---->>> Training done. <<<----\n",
      "Fri Feb  2 21:24:07 2024\n"
     ]
    }
   ],
   "source": [
    "# set result dirtory to save DeSide model\n",
    "model_dir = os.path.join(result_dir, 'DeSide_model')\n",
    "log_file_path = os.path.join(result_dir, 'deside_running_log.txt')\n",
    "deside_obj = DeSide(model_dir=model_dir, log_file_path=log_file_path)\n",
    "\n",
    "# training DeSide\n",
    "# - training_set_file_path is a list, multiple datasets will be combined together\n",
    "deside_obj.train_model(training_set_file_path=[training_set2file_path['D1']], \n",
    "                       hyper_params=deside_parameters, cell_types=all_cell_types,\n",
    "                       scaling_by_constant=True, scaling_by_sample=False,\n",
    "                       remove_cancer_cell=remove_cancer_cell,\n",
    "                       n_patience=100, n_epoch=3000, verbose=0, pathway_mask=pathway_mask,\n",
    "                       method_adding_pathway='add_to_end', filtered_gene_list=filtered_gene_list,\n",
    "                       input_gene_list=input_gene_list)"
   ]
  },
  {
   "cell_type": "code",
   "execution_count": 10,
   "id": "5c4358cb-b10d-4349-9c09-5872542ace46",
   "metadata": {},
   "outputs": [
    {
     "data": {
      "text/html": [
       "<img src=\"./results/E2/DeSide_model/loss.png\" width=\"1200\"/>"
      ],
      "text/plain": [
       "<IPython.core.display.Image object>"
      ]
     },
     "execution_count": 10,
     "metadata": {},
     "output_type": "execute_result"
    }
   ],
   "source": [
    "from IPython.display import Image\n",
    "Image(url= \"./results/E2/DeSide_model/loss.png\", width=1200)"
   ]
  },
  {
   "cell_type": "code",
   "execution_count": 11,
   "id": "06ab21b4-62ab-40b2-a955-92b04556c8dd",
   "metadata": {},
   "outputs": [
    {
     "name": "stdout",
     "output_type": "stream",
     "text": [
      "results/E2/\n",
      "├── DeSide_model\n",
      "│   ├── celltypes.txt\n",
      "│   ├── genes_for_gep.txt\n",
      "│   ├── genes_for_pathway_profile.txt\n",
      "│   ├── genes.txt\n",
      "│   ├── history_reg.csv\n",
      "│   ├── key_params.txt\n",
      "│   ├── loss.png\n",
      "│   └── model_DeSide.h5\n",
      "└── deside_running_log.txt\n",
      "\n",
      "1 directory, 9 files\n"
     ]
    }
   ],
   "source": [
    "!tree results/E2/"
   ]
  },
  {
   "cell_type": "markdown",
   "id": "4af6ef48-a7d9-4ac6-88bf-cb973e9cd588",
   "metadata": {},
   "source": [
    "#### Output files\n",
    "- celltypes.txt                : Cell types included in the training set (without Cancer Cells)\n",
    "- genes_for_gep.txt            : Gene list included in the training set and used in gene expression profiles (GEPs)\n",
    "- genes_for_pathway_profile.txt: Gene list used in Pathway profiles\n",
    "- history_reg.csv              : The history of recorded loss values during the training process\n",
    "- key_params.txt               : Key parameters of the model\n",
    "- loss.png                     : The figure depicting loss values over epochs\n",
    "- model_DeSide.h5              : Saved model after training\n",
    "- deside_running_log.txt       : Log file"
   ]
  },
  {
   "cell_type": "code",
   "execution_count": null,
   "id": "93db6fe9-7fdf-4ddd-ac70-80d55cfbeabd",
   "metadata": {},
   "outputs": [],
   "source": []
  }
 ],
 "metadata": {
  "kernelspec": {
   "display_name": "Python 3 (ipykernel)",
   "language": "python",
   "name": "python3"
  },
  "language_info": {
   "codemirror_mode": {
    "name": "ipython",
    "version": 3
   },
   "file_extension": ".py",
   "mimetype": "text/x-python",
   "name": "python",
   "nbconvert_exporter": "python",
   "pygments_lexer": "ipython3",
   "version": "3.8.18"
  },
  "widgets": {
   "application/vnd.jupyter.widget-state+json": {
    "state": {},
    "version_major": 2,
    "version_minor": 0
   }
  }
 },
 "nbformat": 4,
 "nbformat_minor": 5
}
