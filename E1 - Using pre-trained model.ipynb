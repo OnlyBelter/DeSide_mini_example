{
 "cells": [
  {
   "cell_type": "code",
   "execution_count": 1,
   "id": "7bb09536-1f51-4baa-892d-8c76a317f9a0",
   "metadata": {},
   "outputs": [],
   "source": [
    "import os\n",
    "import pandas as pd\n",
    "from IPython.display import Image\n",
    "from deside.utility import check_dir\n",
    "from deside.decon_cf import DeSide\n",
    "from deside.plot import plot_predicted_result"
   ]
  },
  {
   "cell_type": "markdown",
   "id": "c7231f0f-221c-4352-aeb6-b5f49a624997",
   "metadata": {},
   "source": [
    "### Using pre-trained model"
   ]
  },
  {
   "cell_type": "code",
   "execution_count": 2,
   "id": "b57bcbfc-3965-4ebf-a92a-8a9fad6b90c7",
   "metadata": {
    "tags": []
   },
   "outputs": [
    {
     "name": "stdout",
     "output_type": "stream",
     "text": [
      "(19712, 515)\n"
     ]
    },
    {
     "data": {
      "text/html": [
       "<div>\n",
       "<style scoped>\n",
       "    .dataframe tbody tr th:only-of-type {\n",
       "        vertical-align: middle;\n",
       "    }\n",
       "\n",
       "    .dataframe tbody tr th {\n",
       "        vertical-align: top;\n",
       "    }\n",
       "\n",
       "    .dataframe thead th {\n",
       "        text-align: right;\n",
       "    }\n",
       "</style>\n",
       "<table border=\"1\" class=\"dataframe\">\n",
       "  <thead>\n",
       "    <tr style=\"text-align: right;\">\n",
       "      <th></th>\n",
       "      <th>TCGA-55-8508-01A</th>\n",
       "      <th>TCGA-67-3771-01A</th>\n",
       "      <th>TCGA-55-A4DG-01A</th>\n",
       "      <th>TCGA-91-7771-01A</th>\n",
       "      <th>TCGA-91-6849-01A</th>\n",
       "      <th>TCGA-64-5781-01A</th>\n",
       "      <th>TCGA-44-6146-01B</th>\n",
       "      <th>TCGA-97-7552-01A</th>\n",
       "      <th>TCGA-80-5608-01A</th>\n",
       "      <th>TCGA-91-6829-01A</th>\n",
       "      <th>...</th>\n",
       "      <th>TCGA-55-A4DF-01A</th>\n",
       "      <th>TCGA-67-3773-01A</th>\n",
       "      <th>TCGA-55-7573-01A</th>\n",
       "      <th>TCGA-50-5068-01A</th>\n",
       "      <th>TCGA-49-AARN-01A</th>\n",
       "      <th>TCGA-78-7150-01A</th>\n",
       "      <th>TCGA-MP-A4TA-01A</th>\n",
       "      <th>TCGA-55-7907-01A</th>\n",
       "      <th>TCGA-55-5899-01A</th>\n",
       "      <th>TCGA-55-7574-01A</th>\n",
       "    </tr>\n",
       "    <tr>\n",
       "      <th>gene_name</th>\n",
       "      <th></th>\n",
       "      <th></th>\n",
       "      <th></th>\n",
       "      <th></th>\n",
       "      <th></th>\n",
       "      <th></th>\n",
       "      <th></th>\n",
       "      <th></th>\n",
       "      <th></th>\n",
       "      <th></th>\n",
       "      <th></th>\n",
       "      <th></th>\n",
       "      <th></th>\n",
       "      <th></th>\n",
       "      <th></th>\n",
       "      <th></th>\n",
       "      <th></th>\n",
       "      <th></th>\n",
       "      <th></th>\n",
       "      <th></th>\n",
       "      <th></th>\n",
       "    </tr>\n",
       "  </thead>\n",
       "  <tbody>\n",
       "    <tr>\n",
       "      <th>TRIM71</th>\n",
       "      <td>0.015</td>\n",
       "      <td>0.041</td>\n",
       "      <td>0.491</td>\n",
       "      <td>0.155</td>\n",
       "      <td>0.016</td>\n",
       "      <td>0.011</td>\n",
       "      <td>1.366</td>\n",
       "      <td>1.079</td>\n",
       "      <td>0.200</td>\n",
       "      <td>0.483</td>\n",
       "      <td>...</td>\n",
       "      <td>0.094</td>\n",
       "      <td>0.000</td>\n",
       "      <td>2.909</td>\n",
       "      <td>0.024</td>\n",
       "      <td>0.155</td>\n",
       "      <td>0.009</td>\n",
       "      <td>0.088</td>\n",
       "      <td>0.053</td>\n",
       "      <td>0.011</td>\n",
       "      <td>0.688</td>\n",
       "    </tr>\n",
       "    <tr>\n",
       "      <th>CCR4</th>\n",
       "      <td>2.516</td>\n",
       "      <td>5.237</td>\n",
       "      <td>8.719</td>\n",
       "      <td>12.704</td>\n",
       "      <td>7.546</td>\n",
       "      <td>1.258</td>\n",
       "      <td>12.888</td>\n",
       "      <td>11.499</td>\n",
       "      <td>0.893</td>\n",
       "      <td>1.354</td>\n",
       "      <td>...</td>\n",
       "      <td>6.534</td>\n",
       "      <td>7.799</td>\n",
       "      <td>8.997</td>\n",
       "      <td>7.397</td>\n",
       "      <td>1.229</td>\n",
       "      <td>0.884</td>\n",
       "      <td>2.706</td>\n",
       "      <td>5.959</td>\n",
       "      <td>4.158</td>\n",
       "      <td>22.560</td>\n",
       "    </tr>\n",
       "  </tbody>\n",
       "</table>\n",
       "<p>2 rows × 515 columns</p>\n",
       "</div>"
      ],
      "text/plain": [
       "           TCGA-55-8508-01A  TCGA-67-3771-01A  TCGA-55-A4DG-01A  \\\n",
       "gene_name                                                         \n",
       "TRIM71                0.015             0.041             0.491   \n",
       "CCR4                  2.516             5.237             8.719   \n",
       "\n",
       "           TCGA-91-7771-01A  TCGA-91-6849-01A  TCGA-64-5781-01A  \\\n",
       "gene_name                                                         \n",
       "TRIM71                0.155             0.016             0.011   \n",
       "CCR4                 12.704             7.546             1.258   \n",
       "\n",
       "           TCGA-44-6146-01B  TCGA-97-7552-01A  TCGA-80-5608-01A  \\\n",
       "gene_name                                                         \n",
       "TRIM71                1.366             1.079             0.200   \n",
       "CCR4                 12.888            11.499             0.893   \n",
       "\n",
       "           TCGA-91-6829-01A  ...  TCGA-55-A4DF-01A  TCGA-67-3773-01A  \\\n",
       "gene_name                    ...                                       \n",
       "TRIM71                0.483  ...             0.094             0.000   \n",
       "CCR4                  1.354  ...             6.534             7.799   \n",
       "\n",
       "           TCGA-55-7573-01A  TCGA-50-5068-01A  TCGA-49-AARN-01A  \\\n",
       "gene_name                                                         \n",
       "TRIM71                2.909             0.024             0.155   \n",
       "CCR4                  8.997             7.397             1.229   \n",
       "\n",
       "           TCGA-78-7150-01A  TCGA-MP-A4TA-01A  TCGA-55-7907-01A  \\\n",
       "gene_name                                                         \n",
       "TRIM71                0.009             0.088             0.053   \n",
       "CCR4                  0.884             2.706             5.959   \n",
       "\n",
       "           TCGA-55-5899-01A  TCGA-55-7574-01A  \n",
       "gene_name                                      \n",
       "TRIM71                0.011             0.688  \n",
       "CCR4                  4.158            22.560  \n",
       "\n",
       "[2 rows x 515 columns]"
      ]
     },
     "execution_count": 2,
     "metadata": {},
     "output_type": "execute_result"
    }
   ],
   "source": [
    "# bulk gene expression profiles (GEPs) in TPM formart\n",
    "bulk_tpm_file_path = './datasets/TCGA/tpm/LUAD/LUAD_TPM.csv'\n",
    "bulk_tpm = pd.read_csv(bulk_tpm_file_path, index_col=0)\n",
    "print(bulk_tpm.shape)\n",
    "bulk_tpm.head(2)"
   ]
  },
  {
   "cell_type": "code",
   "execution_count": 3,
   "id": "970dd311-3cf1-4ee0-90b5-1d4fb9b87f68",
   "metadata": {},
   "outputs": [],
   "source": [
    "# create output directory\n",
    "result_dir = './results/E1'\n",
    "y_pred_file_path = os.path.join(result_dir, 'y_pred.csv')\n",
    "check_dir(result_dir)"
   ]
  },
  {
   "cell_type": "code",
   "execution_count": 4,
   "id": "99daf7c5-27f2-47c7-9884-5d8231746dbb",
   "metadata": {},
   "outputs": [
    {
     "name": "stdout",
     "output_type": "stream",
     "text": [
      "   Start to predict cell fractions by pre-trained model...\n",
      "6168 common genes will be used, 13544 genes will be removed.\n",
      "   > 6168 genes included in pre-trained model and will be used for prediction.\n",
      "   The shape of X is: (515, 6168), (n_sample, n_gene)\n"
     ]
    },
    {
     "name": "stderr",
     "output_type": "stream",
     "text": [
      "2023-05-11 17:22:33.911683: I tensorflow/core/platform/cpu_feature_guard.cc:151] This TensorFlow binary is optimized with oneAPI Deep Neural Network Library (oneDNN) to use the following CPU instructions in performance-critical operations:  AVX2 FMA\n",
      "To enable them in other operations, rebuild TensorFlow with the appropriate compiler flags.\n"
     ]
    },
    {
     "name": "stdout",
     "output_type": "stream",
     "text": [
      "   Pre-trained model loaded from ./DeSide_model/model_DeSide.h5.\n",
      "   Model prediction done.\n"
     ]
    }
   ],
   "source": [
    "# read pre-trained DeSide model\n",
    "model_dir = './DeSide_model/'\n",
    "deside_model = DeSide(model_dir=model_dir)\n",
    "\n",
    "# predict by pre-trained model\n",
    "# - transpose=True, if the bulk_tpm_file is provided as genes by samples (rows by columns)\n",
    "# - we used scaling_by_constant in the manuscript, Scaden used scaling_by_sample\n",
    "deside_model.predict(input_file=bulk_tpm_file_path, output_file_path=y_pred_file_path, \n",
    "                     exp_type='TPM', transpose=True,\n",
    "                     scaling_by_sample=False, scaling_by_constant=True)"
   ]
  },
  {
   "cell_type": "code",
   "execution_count": 5,
   "id": "efeb6efb-7b35-44f7-b300-eeb65618572f",
   "metadata": {},
   "outputs": [
    {
     "name": "stdout",
     "output_type": "stream",
     "text": [
      "(515, 12)\n"
     ]
    },
    {
     "data": {
      "text/html": [
       "<div>\n",
       "<style scoped>\n",
       "    .dataframe tbody tr th:only-of-type {\n",
       "        vertical-align: middle;\n",
       "    }\n",
       "\n",
       "    .dataframe tbody tr th {\n",
       "        vertical-align: top;\n",
       "    }\n",
       "\n",
       "    .dataframe thead th {\n",
       "        text-align: right;\n",
       "    }\n",
       "</style>\n",
       "<table border=\"1\" class=\"dataframe\">\n",
       "  <thead>\n",
       "    <tr style=\"text-align: right;\">\n",
       "      <th></th>\n",
       "      <th>B Cells</th>\n",
       "      <th>CD4 T</th>\n",
       "      <th>CD8 T</th>\n",
       "      <th>DC</th>\n",
       "      <th>Endothelial Cells</th>\n",
       "      <th>Fibroblasts</th>\n",
       "      <th>Macrophages</th>\n",
       "      <th>Mast Cells</th>\n",
       "      <th>NK</th>\n",
       "      <th>Neutrophils</th>\n",
       "      <th>1-others</th>\n",
       "      <th>Cancer Cells</th>\n",
       "    </tr>\n",
       "  </thead>\n",
       "  <tbody>\n",
       "    <tr>\n",
       "      <th>TCGA-55-8508-01A</th>\n",
       "      <td>0.109</td>\n",
       "      <td>0.022</td>\n",
       "      <td>0.005</td>\n",
       "      <td>0.007</td>\n",
       "      <td>0.058</td>\n",
       "      <td>0.113</td>\n",
       "      <td>0.073</td>\n",
       "      <td>0.002</td>\n",
       "      <td>0.010</td>\n",
       "      <td>0.013</td>\n",
       "      <td>0.588</td>\n",
       "      <td>0.588</td>\n",
       "    </tr>\n",
       "    <tr>\n",
       "      <th>TCGA-67-3771-01A</th>\n",
       "      <td>0.044</td>\n",
       "      <td>0.020</td>\n",
       "      <td>0.018</td>\n",
       "      <td>0.005</td>\n",
       "      <td>0.032</td>\n",
       "      <td>0.105</td>\n",
       "      <td>0.216</td>\n",
       "      <td>0.000</td>\n",
       "      <td>0.009</td>\n",
       "      <td>0.001</td>\n",
       "      <td>0.552</td>\n",
       "      <td>0.552</td>\n",
       "    </tr>\n",
       "  </tbody>\n",
       "</table>\n",
       "</div>"
      ],
      "text/plain": [
       "                  B Cells  CD4 T  CD8 T     DC  Endothelial Cells  \\\n",
       "TCGA-55-8508-01A    0.109  0.022  0.005  0.007              0.058   \n",
       "TCGA-67-3771-01A    0.044  0.020  0.018  0.005              0.032   \n",
       "\n",
       "                  Fibroblasts  Macrophages  Mast Cells     NK  Neutrophils  \\\n",
       "TCGA-55-8508-01A        0.113        0.073       0.002  0.010        0.013   \n",
       "TCGA-67-3771-01A        0.105        0.216       0.000  0.009        0.001   \n",
       "\n",
       "                  1-others  Cancer Cells  \n",
       "TCGA-55-8508-01A     0.588         0.588  \n",
       "TCGA-67-3771-01A     0.552         0.552  "
      ]
     },
     "execution_count": 5,
     "metadata": {},
     "output_type": "execute_result"
    }
   ],
   "source": [
    "y_pred = pd.read_csv(y_pred_file_path, index_col=0)\n",
    "print(y_pred.shape)\n",
    "y_pred.head(2)"
   ]
  },
  {
   "cell_type": "code",
   "execution_count": 6,
   "id": "62a99210-fad1-40ad-89fb-190e20ba70df",
   "metadata": {},
   "outputs": [
    {
     "name": "stdout",
     "output_type": "stream",
     "text": [
      "   Using previous figure, ./results/E1/CD8A_vs_predicted_CD8 T_proportion.png\n",
      "   Cell types:  B Cells, CD4 T, CD8 T, Cancer Cells, DC, Endothelial Cells, Fibroblasts, Macrophages, Mast Cells, NK, Neutrophils\n"
     ]
    }
   ],
   "source": [
    "# plot predicted cell proportions\n",
    "plot_predicted_result(cell_frac_result_fp=y_pred_file_path, bulk_exp_fp=bulk_tpm_file_path,\n",
    "                      cancer_type='LUAD', model_name='DeSide', result_dir=result_dir, font_scale=2)"
   ]
  },
  {
   "cell_type": "code",
   "execution_count": 7,
   "id": "92691306-034d-45ad-a391-068b8fd75127",
   "metadata": {},
   "outputs": [
    {
     "data": {
      "text/html": [
       "<img src=\"./results/E1/pred_cell_prop_before_decon.png\" width=\"1200\"/>"
      ],
      "text/plain": [
       "<IPython.core.display.Image object>"
      ]
     },
     "execution_count": 7,
     "metadata": {},
     "output_type": "execute_result"
    }
   ],
   "source": [
    "Image(url= \"./results/E1/pred_cell_prop_before_decon.png\", width=1200)"
   ]
  },
  {
   "cell_type": "code",
   "execution_count": null,
   "id": "798a47ad-34d4-4aa5-a447-235e96b6c251",
   "metadata": {},
   "outputs": [],
   "source": []
  }
 ],
 "metadata": {
  "kernelspec": {
   "display_name": "Python 3 (ipykernel)",
   "language": "python",
   "name": "python3"
  },
  "language_info": {
   "codemirror_mode": {
    "name": "ipython",
    "version": 3
   },
   "file_extension": ".py",
   "mimetype": "text/x-python",
   "name": "python",
   "nbconvert_exporter": "python",
   "pygments_lexer": "ipython3",
   "version": "3.8.13"
  }
 },
 "nbformat": 4,
 "nbformat_minor": 5
}
