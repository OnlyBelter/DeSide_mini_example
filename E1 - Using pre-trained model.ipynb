{
 "cells": [
  {
   "cell_type": "code",
   "execution_count": 1,
   "id": "7bb09536-1f51-4baa-892d-8c76a317f9a0",
   "metadata": {},
   "outputs": [
    {
     "name": "stderr",
     "output_type": "stream",
     "text": [
      "2024-02-01 17:34:44.771791: I tensorflow/core/platform/cpu_feature_guard.cc:193] This TensorFlow binary is optimized with oneAPI Deep Neural Network Library (oneDNN) to use the following CPU instructions in performance-critical operations:  AVX2 FMA\n",
      "To enable them in other operations, rebuild TensorFlow with the appropriate compiler flags.\n"
     ]
    }
   ],
   "source": [
    "import os\n",
    "import pandas as pd\n",
    "from IPython.display import Image\n",
    "from deside.utility import check_dir\n",
    "from deside.decon_cf import DeSide\n",
    "from deside.plot import plot_predicted_result\n",
    "from deside.utility.read_file import read_gene_set\n",
    "import deside"
   ]
  },
  {
   "cell_type": "markdown",
   "id": "c7231f0f-221c-4352-aeb6-b5f49a624997",
   "metadata": {},
   "source": [
    "### Using pre-trained model\n",
    "#### Input files\n",
    "- `LUAD_TPM.csv`: Gene expression profiles of LUAD in the Transcript per Million (TPM) format from TCGA.\n",
    "- `DeSide_model`: The folder containing the pre-trained model."
   ]
  },
  {
   "cell_type": "code",
   "execution_count": 2,
   "id": "28c6f9c9-d589-4c64-9f41-1c46075fbecc",
   "metadata": {},
   "outputs": [
    {
     "data": {
      "text/plain": [
       "'1.2.1'"
      ]
     },
     "execution_count": 2,
     "metadata": {},
     "output_type": "execute_result"
    }
   ],
   "source": [
    "deside.__version__"
   ]
  },
  {
   "cell_type": "code",
   "execution_count": 3,
   "id": "b57bcbfc-3965-4ebf-a92a-8a9fad6b90c7",
   "metadata": {
    "tags": []
   },
   "outputs": [
    {
     "name": "stdout",
     "output_type": "stream",
     "text": [
      "(19712, 515)\n"
     ]
    },
    {
     "data": {
      "text/html": [
       "<div>\n",
       "<style scoped>\n",
       "    .dataframe tbody tr th:only-of-type {\n",
       "        vertical-align: middle;\n",
       "    }\n",
       "\n",
       "    .dataframe tbody tr th {\n",
       "        vertical-align: top;\n",
       "    }\n",
       "\n",
       "    .dataframe thead th {\n",
       "        text-align: right;\n",
       "    }\n",
       "</style>\n",
       "<table border=\"1\" class=\"dataframe\">\n",
       "  <thead>\n",
       "    <tr style=\"text-align: right;\">\n",
       "      <th></th>\n",
       "      <th>TCGA-55-8508-01A</th>\n",
       "      <th>TCGA-67-3771-01A</th>\n",
       "      <th>TCGA-55-A4DG-01A</th>\n",
       "      <th>TCGA-91-7771-01A</th>\n",
       "      <th>TCGA-91-6849-01A</th>\n",
       "      <th>TCGA-64-5781-01A</th>\n",
       "      <th>TCGA-44-6146-01B</th>\n",
       "      <th>TCGA-97-7552-01A</th>\n",
       "      <th>TCGA-80-5608-01A</th>\n",
       "      <th>TCGA-91-6829-01A</th>\n",
       "      <th>...</th>\n",
       "      <th>TCGA-55-A4DF-01A</th>\n",
       "      <th>TCGA-67-3773-01A</th>\n",
       "      <th>TCGA-55-7573-01A</th>\n",
       "      <th>TCGA-50-5068-01A</th>\n",
       "      <th>TCGA-49-AARN-01A</th>\n",
       "      <th>TCGA-78-7150-01A</th>\n",
       "      <th>TCGA-MP-A4TA-01A</th>\n",
       "      <th>TCGA-55-7907-01A</th>\n",
       "      <th>TCGA-55-5899-01A</th>\n",
       "      <th>TCGA-55-7574-01A</th>\n",
       "    </tr>\n",
       "    <tr>\n",
       "      <th>gene_name</th>\n",
       "      <th></th>\n",
       "      <th></th>\n",
       "      <th></th>\n",
       "      <th></th>\n",
       "      <th></th>\n",
       "      <th></th>\n",
       "      <th></th>\n",
       "      <th></th>\n",
       "      <th></th>\n",
       "      <th></th>\n",
       "      <th></th>\n",
       "      <th></th>\n",
       "      <th></th>\n",
       "      <th></th>\n",
       "      <th></th>\n",
       "      <th></th>\n",
       "      <th></th>\n",
       "      <th></th>\n",
       "      <th></th>\n",
       "      <th></th>\n",
       "      <th></th>\n",
       "    </tr>\n",
       "  </thead>\n",
       "  <tbody>\n",
       "    <tr>\n",
       "      <th>TRIM71</th>\n",
       "      <td>0.015</td>\n",
       "      <td>0.041</td>\n",
       "      <td>0.491</td>\n",
       "      <td>0.155</td>\n",
       "      <td>0.016</td>\n",
       "      <td>0.011</td>\n",
       "      <td>1.366</td>\n",
       "      <td>1.079</td>\n",
       "      <td>0.200</td>\n",
       "      <td>0.483</td>\n",
       "      <td>...</td>\n",
       "      <td>0.094</td>\n",
       "      <td>0.000</td>\n",
       "      <td>2.909</td>\n",
       "      <td>0.024</td>\n",
       "      <td>0.155</td>\n",
       "      <td>0.009</td>\n",
       "      <td>0.088</td>\n",
       "      <td>0.053</td>\n",
       "      <td>0.011</td>\n",
       "      <td>0.688</td>\n",
       "    </tr>\n",
       "    <tr>\n",
       "      <th>CCR4</th>\n",
       "      <td>2.516</td>\n",
       "      <td>5.237</td>\n",
       "      <td>8.719</td>\n",
       "      <td>12.704</td>\n",
       "      <td>7.546</td>\n",
       "      <td>1.258</td>\n",
       "      <td>12.888</td>\n",
       "      <td>11.499</td>\n",
       "      <td>0.893</td>\n",
       "      <td>1.354</td>\n",
       "      <td>...</td>\n",
       "      <td>6.534</td>\n",
       "      <td>7.799</td>\n",
       "      <td>8.997</td>\n",
       "      <td>7.397</td>\n",
       "      <td>1.229</td>\n",
       "      <td>0.884</td>\n",
       "      <td>2.706</td>\n",
       "      <td>5.959</td>\n",
       "      <td>4.158</td>\n",
       "      <td>22.560</td>\n",
       "    </tr>\n",
       "  </tbody>\n",
       "</table>\n",
       "<p>2 rows × 515 columns</p>\n",
       "</div>"
      ],
      "text/plain": [
       "           TCGA-55-8508-01A  TCGA-67-3771-01A  TCGA-55-A4DG-01A  \\\n",
       "gene_name                                                         \n",
       "TRIM71                0.015             0.041             0.491   \n",
       "CCR4                  2.516             5.237             8.719   \n",
       "\n",
       "           TCGA-91-7771-01A  TCGA-91-6849-01A  TCGA-64-5781-01A  \\\n",
       "gene_name                                                         \n",
       "TRIM71                0.155             0.016             0.011   \n",
       "CCR4                 12.704             7.546             1.258   \n",
       "\n",
       "           TCGA-44-6146-01B  TCGA-97-7552-01A  TCGA-80-5608-01A  \\\n",
       "gene_name                                                         \n",
       "TRIM71                1.366             1.079             0.200   \n",
       "CCR4                 12.888            11.499             0.893   \n",
       "\n",
       "           TCGA-91-6829-01A  ...  TCGA-55-A4DF-01A  TCGA-67-3773-01A  \\\n",
       "gene_name                    ...                                       \n",
       "TRIM71                0.483  ...             0.094             0.000   \n",
       "CCR4                  1.354  ...             6.534             7.799   \n",
       "\n",
       "           TCGA-55-7573-01A  TCGA-50-5068-01A  TCGA-49-AARN-01A  \\\n",
       "gene_name                                                         \n",
       "TRIM71                2.909             0.024             0.155   \n",
       "CCR4                  8.997             7.397             1.229   \n",
       "\n",
       "           TCGA-78-7150-01A  TCGA-MP-A4TA-01A  TCGA-55-7907-01A  \\\n",
       "gene_name                                                         \n",
       "TRIM71                0.009             0.088             0.053   \n",
       "CCR4                  0.884             2.706             5.959   \n",
       "\n",
       "           TCGA-55-5899-01A  TCGA-55-7574-01A  \n",
       "gene_name                                      \n",
       "TRIM71                0.011             0.688  \n",
       "CCR4                  4.158            22.560  \n",
       "\n",
       "[2 rows x 515 columns]"
      ]
     },
     "execution_count": 3,
     "metadata": {},
     "output_type": "execute_result"
    }
   ],
   "source": [
    "dataset_dir = './datasets/'\n",
    "# bulk gene expression profiles (GEPs) in TPM formart\n",
    "bulk_tpm_file_path = os.path.join(dataset_dir, 'TCGA/tpm/LUAD/LUAD_TPM.csv')\n",
    "bulk_tpm = pd.read_csv(bulk_tpm_file_path, index_col=0)\n",
    "print(bulk_tpm.shape)\n",
    "bulk_tpm.head(2)"
   ]
  },
  {
   "cell_type": "code",
   "execution_count": 4,
   "id": "970dd311-3cf1-4ee0-90b5-1d4fb9b87f68",
   "metadata": {},
   "outputs": [],
   "source": [
    "# create output directory\n",
    "result_dir = './results/E1'\n",
    "y_pred_file_path = os.path.join(result_dir, 'y_pred.csv')\n",
    "check_dir(result_dir)"
   ]
  },
  {
   "cell_type": "code",
   "execution_count": 5,
   "id": "d9b12ab6-210f-4b2e-9d8b-db0aef83ad25",
   "metadata": {},
   "outputs": [],
   "source": [
    "# hyper-parameters of the DNN model\n",
    "deside_parameters = {\n",
    "    'architecture': ([200, 2000, 2000, 2000, 50], [0.05, 0.05, 0.05, 0.2, 0]),\n",
    "    'architecture_for_pathway_network': ([50, 500, 500, 500, 50], [0, 0, 0, 0, 0]),\n",
    "    'loss_function_alpha': 0.5,  # alpha*mae + (1-alpha)*rmse, mae means mean absolute error\n",
    "    'normalization': 'layer_normalization',  # batch_normalization / layer_normalization / None\n",
    "     # 1 means to add a normalization layer, input | the first hidden layer | ... | output\n",
    "    'normalization_layer': [0, 0, 1, 1, 1, 1],  # 1 more parameter than the number of hidden layers\n",
    "    'pathway_network': True,  # using an independent pathway network\n",
    "    'last_layer_activation': 'sigmoid',  # sigmoid / softmax\n",
    "    'learning_rate': 1e-4,\n",
    "    'batch_size': 128}\n",
    "\n",
    "# read two gene sets as pathway mask\n",
    "gene_set_file_path1 = os.path.join(dataset_dir, 'gene_set', 'c2.cp.kegg.v2023.1.Hs.symbols.gmt')\n",
    "gene_set_file_path2 = os.path.join(dataset_dir, 'gene_set', 'c2.cp.reactome.v2023.1.Hs.symbols.gmt')\n",
    "all_pathway_files = [gene_set_file_path1, gene_set_file_path2]\n",
    "pathway_mask = read_gene_set(all_pathway_files)  # genes by pathways"
   ]
  },
  {
   "cell_type": "code",
   "execution_count": 6,
   "id": "99daf7c5-27f2-47c7-9884-5d8231746dbb",
   "metadata": {},
   "outputs": [
    {
     "name": "stdout",
     "output_type": "stream",
     "text": [
      "   Start to predict cell fractions by pre-trained model...\n",
      "   9028 common genes will be used, 10684 genes will be removed.\n",
      "   9028 genes will be used to construct the pathway profiles.\n",
      "common genes between training set and pathway mask: 5462\n",
      "genes only in training set: 3566\n",
      "x shape: (515, 10868)\n",
      "   10868 common genes will be used, 0 genes will be removed.\n",
      "   > 10868 genes included in pre-trained model and will be used for prediction.\n",
      "   The shape of X is: (515, 10868), (n_sample, n_gene)\n"
     ]
    },
    {
     "name": "stderr",
     "output_type": "stream",
     "text": [
      "2024-02-01 17:35:25.658341: I tensorflow/core/platform/cpu_feature_guard.cc:193] This TensorFlow binary is optimized with oneAPI Deep Neural Network Library (oneDNN) to use the following CPU instructions in performance-critical operations:  AVX2 FMA\n",
      "To enable them in other operations, rebuild TensorFlow with the appropriate compiler flags.\n"
     ]
    },
    {
     "name": "stdout",
     "output_type": "stream",
     "text": [
      "   Pre-trained model loaded from ./DeSide_model/model_DeSide.h5.\n",
      "17/17 [==============================] - 0s 9ms/step\n",
      "   Model prediction done.\n"
     ]
    }
   ],
   "source": [
    "# read pre-trained DeSide model\n",
    "model_dir = './DeSide_model/'\n",
    "deside_model = DeSide(model_dir=model_dir)\n",
    "\n",
    "# predict by pre-trained model\n",
    "# - transpose=True, if the bulk_tpm_file is provided as genes by samples (rows by columns)\n",
    "# - we used scaling_by_constant in the manuscript, Scaden used scaling_by_sample\n",
    "deside_model.predict(input_file=bulk_tpm_file_path, output_file_path=y_pred_file_path, \n",
    "                     exp_type='TPM', transpose=True,\n",
    "                     scaling_by_sample=False, scaling_by_constant=True,\n",
    "                     hyper_params=deside_parameters, pathway_mask=pathway_mask)"
   ]
  },
  {
   "cell_type": "code",
   "execution_count": 7,
   "id": "efeb6efb-7b35-44f7-b300-eeb65618572f",
   "metadata": {},
   "outputs": [
    {
     "name": "stdout",
     "output_type": "stream",
     "text": [
      "(515, 17)\n"
     ]
    },
    {
     "data": {
      "text/html": [
       "<div>\n",
       "<style scoped>\n",
       "    .dataframe tbody tr th:only-of-type {\n",
       "        vertical-align: middle;\n",
       "    }\n",
       "\n",
       "    .dataframe tbody tr th {\n",
       "        vertical-align: top;\n",
       "    }\n",
       "\n",
       "    .dataframe thead th {\n",
       "        text-align: right;\n",
       "    }\n",
       "</style>\n",
       "<table border=\"1\" class=\"dataframe\">\n",
       "  <thead>\n",
       "    <tr style=\"text-align: right;\">\n",
       "      <th></th>\n",
       "      <th>Plasma B cells</th>\n",
       "      <th>Non-plasma B cells</th>\n",
       "      <th>CD4 T</th>\n",
       "      <th>CD8 T effector</th>\n",
       "      <th>CD8 T (GZMK high)</th>\n",
       "      <th>Double-neg-like T</th>\n",
       "      <th>DC</th>\n",
       "      <th>Endothelial Cells</th>\n",
       "      <th>CAFs</th>\n",
       "      <th>Myofibroblasts</th>\n",
       "      <th>Macrophages</th>\n",
       "      <th>Mast Cells</th>\n",
       "      <th>NK</th>\n",
       "      <th>Neutrophils</th>\n",
       "      <th>Monocytes</th>\n",
       "      <th>1-others</th>\n",
       "      <th>Cancer Cells</th>\n",
       "    </tr>\n",
       "  </thead>\n",
       "  <tbody>\n",
       "    <tr>\n",
       "      <th>TCGA-55-8508-01A</th>\n",
       "      <td>0.138</td>\n",
       "      <td>0.014</td>\n",
       "      <td>0.019</td>\n",
       "      <td>0.003</td>\n",
       "      <td>0.001</td>\n",
       "      <td>0.000</td>\n",
       "      <td>0.015</td>\n",
       "      <td>0.035</td>\n",
       "      <td>0.100</td>\n",
       "      <td>0.018</td>\n",
       "      <td>0.052</td>\n",
       "      <td>0.001</td>\n",
       "      <td>0.005</td>\n",
       "      <td>0.019</td>\n",
       "      <td>0.000</td>\n",
       "      <td>0.581</td>\n",
       "      <td>0.581</td>\n",
       "    </tr>\n",
       "    <tr>\n",
       "      <th>TCGA-67-3771-01A</th>\n",
       "      <td>0.050</td>\n",
       "      <td>0.005</td>\n",
       "      <td>0.016</td>\n",
       "      <td>0.002</td>\n",
       "      <td>0.017</td>\n",
       "      <td>0.001</td>\n",
       "      <td>0.014</td>\n",
       "      <td>0.040</td>\n",
       "      <td>0.079</td>\n",
       "      <td>0.023</td>\n",
       "      <td>0.164</td>\n",
       "      <td>0.002</td>\n",
       "      <td>0.000</td>\n",
       "      <td>0.011</td>\n",
       "      <td>0.001</td>\n",
       "      <td>0.575</td>\n",
       "      <td>0.575</td>\n",
       "    </tr>\n",
       "  </tbody>\n",
       "</table>\n",
       "</div>"
      ],
      "text/plain": [
       "                  Plasma B cells  Non-plasma B cells  CD4 T  CD8 T effector  \\\n",
       "TCGA-55-8508-01A           0.138               0.014  0.019           0.003   \n",
       "TCGA-67-3771-01A           0.050               0.005  0.016           0.002   \n",
       "\n",
       "                  CD8 T (GZMK high)  Double-neg-like T     DC  \\\n",
       "TCGA-55-8508-01A              0.001              0.000  0.015   \n",
       "TCGA-67-3771-01A              0.017              0.001  0.014   \n",
       "\n",
       "                  Endothelial Cells   CAFs  Myofibroblasts  Macrophages  \\\n",
       "TCGA-55-8508-01A              0.035  0.100           0.018        0.052   \n",
       "TCGA-67-3771-01A              0.040  0.079           0.023        0.164   \n",
       "\n",
       "                  Mast Cells     NK  Neutrophils  Monocytes  1-others  \\\n",
       "TCGA-55-8508-01A       0.001  0.005        0.019      0.000     0.581   \n",
       "TCGA-67-3771-01A       0.002  0.000        0.011      0.001     0.575   \n",
       "\n",
       "                  Cancer Cells  \n",
       "TCGA-55-8508-01A         0.581  \n",
       "TCGA-67-3771-01A         0.575  "
      ]
     },
     "execution_count": 7,
     "metadata": {},
     "output_type": "execute_result"
    }
   ],
   "source": [
    "y_pred = pd.read_csv(y_pred_file_path, index_col=0)\n",
    "print(y_pred.shape)\n",
    "y_pred.head(2)"
   ]
  },
  {
   "cell_type": "code",
   "execution_count": 8,
   "id": "62a99210-fad1-40ad-89fb-190e20ba70df",
   "metadata": {},
   "outputs": [
    {
     "name": "stdout",
     "output_type": "stream",
     "text": [
      "   Cell types:  CAFs, CD4 T, CD8 T (GZMK high), CD8 T effector, Cancer Cells, DC, Double-neg-like T, Endothelial Cells, Macrophages, Mast Cells, Monocytes, Myofibroblasts, NK, Neutrophils, Non-plasma B cells, Plasma B cells\n"
     ]
    }
   ],
   "source": [
    "# plot predicted cell proportions\n",
    "plot_predicted_result(cell_frac_result_fp=y_pred_file_path, bulk_exp_fp=bulk_tpm_file_path,\n",
    "                      cancer_type='LUAD', model_name='DeSide', result_dir=result_dir, font_scale=2)"
   ]
  },
  {
   "cell_type": "code",
   "execution_count": 9,
   "id": "585848cc-d914-48a7-a1fa-3d5e0d7f3014",
   "metadata": {},
   "outputs": [
    {
     "data": {
      "text/html": [
       "<img src=\"./results/E1/pred_cell_prop_before_decon.png\" width=\"1200\"/>"
      ],
      "text/plain": [
       "<IPython.core.display.Image object>"
      ]
     },
     "execution_count": 9,
     "metadata": {},
     "output_type": "execute_result"
    }
   ],
   "source": [
    "Image(url= \"./results/E1/pred_cell_prop_before_decon.png\", width=1200)"
   ]
  },
  {
   "cell_type": "code",
   "execution_count": 10,
   "id": "facb0182-7f81-4e43-a5eb-9ce8d71fe30f",
   "metadata": {},
   "outputs": [
    {
     "name": "stdout",
     "output_type": "stream",
     "text": [
      "\u001b[01;34mresults/E1/\u001b[0m\n",
      "├── \u001b[00mCD8A_vs_predicted_CD8 T_proportion.png\u001b[0m\n",
      "├── \u001b[00mpred_cell_prop_before_decon.png\u001b[0m\n",
      "└── \u001b[00my_pred.csv\u001b[0m\n",
      "\n",
      "1 directory, 3 files\n"
     ]
    }
   ],
   "source": [
    "!tree results/E1/"
   ]
  },
  {
   "cell_type": "markdown",
   "id": "a317829d-99ab-41d4-ad1d-1ad815ddf86a",
   "metadata": {},
   "source": [
    "#### Output files\n",
    "- CD8A_vs_predicted_CD8 T_proportion.png: The figure depicting the predicted CD8 T cell proportions and the expression values of marker gene CD8A\n",
    "- pred_cell_prop_before_decon.png: The figure depicting the predicted cell proportions for all cell types\n",
    "- y_pred.csv: The file containing the predicted cell proportions\n"
   ]
  },
  {
   "cell_type": "code",
   "execution_count": null,
   "id": "4a6cc405-1c71-4c1e-85e3-f5586511ecc7",
   "metadata": {},
   "outputs": [],
   "source": []
  }
 ],
 "metadata": {
  "kernelspec": {
   "display_name": "Python 3 (ipykernel)",
   "language": "python",
   "name": "python3"
  },
  "language_info": {
   "codemirror_mode": {
    "name": "ipython",
    "version": 3
   },
   "file_extension": ".py",
   "mimetype": "text/x-python",
   "name": "python",
   "nbconvert_exporter": "python",
   "pygments_lexer": "ipython3",
   "version": "3.8.18"
  }
 },
 "nbformat": 4,
 "nbformat_minor": 5
}
