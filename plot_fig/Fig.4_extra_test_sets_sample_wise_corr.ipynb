{
 "cells": [
  {
   "cell_type": "code",
   "execution_count": 1,
   "id": "7db855dd-fdb1-4a27-981a-5dae7d5d92f2",
   "metadata": {},
   "outputs": [
    {
     "name": "stderr",
     "output_type": "stream",
     "text": [
      "2024-06-27 11:20:11.994679: I tensorflow/core/platform/cpu_feature_guard.cc:193] This TensorFlow binary is optimized with oneAPI Deep Neural Network Library (oneDNN) to use the following CPU instructions in performance-critical operations:  AVX2 FMA\n",
      "To enable them in other operations, rebuild TensorFlow with the appropriate compiler flags.\n"
     ]
    }
   ],
   "source": [
    "import os\n",
    "import shutil\n",
    "import pandas as pd\n",
    "import numpy as np\n",
    "import matplotlib.pyplot as plt\n",
    "from matplotlib import rcParams\n",
    "import seaborn as sns\n",
    "from scipy import stats\n",
    "# from deside.utility import cancer_types, check_dir, read_marker_gene, calculate_rmse, set_fig_style\n",
    "from deside.decon_cf import DeSide\n",
    "from deside.utility.read_file import read_gene_set\n",
    "from deside.utility.compare import read_and_merge_result, cal_gene_signature_score\n",
    "from deside.utility import (ExpObj, set_fig_style, sorted_cell_types, read_marker_gene,\n",
    "                            get_corr, check_dir, cancer_types, get_ccc, get_corr_spearman,\n",
    "                            read_cancer_purity, calculate_rmse, print_df, calculate_mae)\n",
    "# sns.set(font_scale=2)\n",
    "# sns.set_style(\"white\")\n",
    "from sklearn.metrics import median_absolute_error\n",
    "set_fig_style(font_family='Arial', font_size=8)"
   ]
  },
  {
   "cell_type": "code",
   "execution_count": 2,
   "id": "1e799314-418a-4e34-99e7-889f46c02352",
   "metadata": {},
   "outputs": [],
   "source": [
    "fig_dir = './fig4/'\n",
    "dataset_dir = '../datasets/'\n",
    "result_dir = '../results/whole_workflow_20231110_12ds_subtypes/DeSide_03_new_ds_subtypes_all_range/'"
   ]
  },
  {
   "cell_type": "markdown",
   "id": "12dae0d1-3c36-4352-8c54-035338b28252",
   "metadata": {
    "tags": []
   },
   "source": [
    "---\n",
    "## 3 SC test sets\n",
    "- from  https://science.bostongene.com/kassandra/downloads"
   ]
  },
  {
   "cell_type": "code",
   "execution_count": 3,
   "id": "704d43c8-d064-4e75-b572-89b76227719d",
   "metadata": {},
   "outputs": [],
   "source": [
    "algo2cell_type_name_mapping = {\n",
    "        'CIBERSORTx_HNSCC': {'B cell': 'B Cells', 'T cells CD4': 'CD4 T', 'T cells CD8': 'CD8 T', 'Dendritic': 'DC',\n",
    "                            'Malignant': 'Cancer Cells', 'Endothelial': 'Endothelial Cells',\n",
    "                            'Fibroblast': 'Fibroblasts', 'Macrophage': 'Macrophages', 'Mast': 'Mast Cells',\n",
    "                            },\n",
    "        'EPIC_TRef': {'B.cells': 'B Cells', 'CD4.T': 'CD4 T', 'CD8.T': 'CD8 T',\n",
    "                      'otherCells': 'Cancer Cells', 'Endothelial.Cells': 'Endothelial Cells',\n",
    "                      'Fibroblasts': 'Fibroblasts',  'NK': 'NK', 'Macrophages': 'Macrophages',\n",
    "                      },\n",
    "        'Scaden_ascites': {'CD4Tcells': 'CD4 T', 'CD8Tcells': 'CD8 T', 'Carcinoma': 'Cancer Cells',\n",
    "                           'DC': 'DC', 'Fibroblast': 'Fibroblasts', 'NK': 'NK',\n",
    "                          },\n",
    "        'Kassandra_self': {'B_cells': 'B Cells', 'CD4_T_cells': 'CD4 T', 'CD8_T_cells': 'CD8 T',\n",
    "                           'Endothelium': 'Endothelial Cells', 'Fibroblasts': 'Fibroblasts', 'Macrophages': 'Macrophages',\n",
    "                           'NK_cells': 'NK', 'Neutrophils': 'Neutrophils', 'Other': 'Cancer Cells'},\n",
    "}"
   ]
  },
  {
   "cell_type": "markdown",
   "id": "4085681e-d575-441f-8dc1-edc08b268325",
   "metadata": {},
   "source": [
    "### Merged predicted cell prop."
   ]
  },
  {
   "cell_type": "code",
   "execution_count": 4,
   "id": "377e3810-e312-4943-b612-587b9bebb21f",
   "metadata": {},
   "outputs": [
    {
     "data": {
      "text/html": [
       "<div>\n",
       "<style scoped>\n",
       "    .dataframe tbody tr th:only-of-type {\n",
       "        vertical-align: middle;\n",
       "    }\n",
       "\n",
       "    .dataframe tbody tr th {\n",
       "        vertical-align: top;\n",
       "    }\n",
       "\n",
       "    .dataframe thead th {\n",
       "        text-align: right;\n",
       "    }\n",
       "</style>\n",
       "<table border=\"1\" class=\"dataframe\">\n",
       "  <thead>\n",
       "    <tr style=\"text-align: right;\">\n",
       "      <th></th>\n",
       "      <th>sample_id</th>\n",
       "      <th>algo</th>\n",
       "      <th>cell_type</th>\n",
       "      <th>cell_proportion</th>\n",
       "      <th>datasets</th>\n",
       "    </tr>\n",
       "  </thead>\n",
       "  <tbody>\n",
       "    <tr>\n",
       "      <th>3050</th>\n",
       "      <td>SRR8030893</td>\n",
       "      <td>DeSide</td>\n",
       "      <td>Plasma B cells</td>\n",
       "      <td>0.0</td>\n",
       "      <td>GSE121127</td>\n",
       "    </tr>\n",
       "    <tr>\n",
       "      <th>3051</th>\n",
       "      <td>SRR8030893</td>\n",
       "      <td>DeSide</td>\n",
       "      <td>Non-plasma B cells</td>\n",
       "      <td>0.0</td>\n",
       "      <td>GSE121127</td>\n",
       "    </tr>\n",
       "  </tbody>\n",
       "</table>\n",
       "</div>"
      ],
      "text/plain": [
       "       sample_id    algo           cell_type  cell_proportion   datasets\n",
       "3050  SRR8030893  DeSide      Plasma B cells              0.0  GSE121127\n",
       "3051  SRR8030893  DeSide  Non-plasma B cells              0.0  GSE121127"
      ]
     },
     "execution_count": 4,
     "metadata": {},
     "output_type": "execute_result"
    }
   ],
   "source": [
    "ind_ds_dir = '../datasets/Independent_Test_Set/to_xiongxin/'\n",
    "cell_prop_pred = pd.read_csv(os.path.join(ind_ds_dir, 'validation_datasets_predicted_by_algorithms/predicted_by_algorithms/cell_propotion_with_four_datasets.csv'), index_col=0)\n",
    "cell_prop_pred.loc[cell_prop_pred['cell_proportion'] < 0, 'cell_proportion'] = 0\n",
    "cell_prop_pred.loc[cell_prop_pred['cell_proportion'] > 100, 'cell_proportion'] = 100\n",
    "# remove CIBERSORT and fardeep_relative since the sum != 100\n",
    "cell_prop_pred = cell_prop_pred.loc[cell_prop_pred['algo'].isin(['DeSide', 'EPIC_TRef', 'Kassandra', 'HNSC_matrix_with_BC_CIBERSORTX']), :].copy()\n",
    "cell_prop_pred.head(2)"
   ]
  },
  {
   "cell_type": "code",
   "execution_count": 5,
   "id": "88b5ceae-48cd-43eb-8300-504a21b8cc74",
   "metadata": {},
   "outputs": [
    {
     "data": {
      "text/plain": [
       "array(['DeSide', 'EPIC_TRef', 'HNSC_matrix_with_BC_CIBERSORTX',\n",
       "       'Kassandra'], dtype=object)"
      ]
     },
     "execution_count": 5,
     "metadata": {},
     "output_type": "execute_result"
    }
   ],
   "source": [
    "cell_prop_pred['algo'].unique()"
   ]
  },
  {
   "cell_type": "code",
   "execution_count": 6,
   "id": "8d5a4599-7acf-41af-8a3b-cc195de72376",
   "metadata": {},
   "outputs": [
    {
     "data": {
      "text/plain": [
       "array(['GSE121127', 'SC_glioblastoma', 'SC_HNSCC', 'SC_ovarian_cancer'],\n",
       "      dtype=object)"
      ]
     },
     "execution_count": 6,
     "metadata": {},
     "output_type": "execute_result"
    }
   ],
   "source": [
    "cell_prop_pred['datasets'].unique()"
   ]
  },
  {
   "cell_type": "markdown",
   "id": "7d6ab943-d66e-4343-8e69-acf997fcf415",
   "metadata": {},
   "source": [
    "#### Predicted cell prop. by Scaden\n",
    "- The provided results for Scaden is not complete by above downloaded dataset, so we calculated for these 3 datasets using Scaden (ascites) locally "
   ]
  },
  {
   "cell_type": "code",
   "execution_count": 7,
   "id": "ce88b268-b548-4215-959b-5f40c06bce11",
   "metadata": {},
   "outputs": [
    {
     "name": "stdout",
     "output_type": "stream",
     "text": [
      "SC_glioblastoma (28, 8)\n",
      "SC_HNSCC (22, 8)\n",
      "SC_ovarian_cancer (8, 8)\n",
      "  sample_id     CD8 T  Monocytes  Cancer Cells        NK        DC     CD4 T  \\\n",
      "0    BT1160  0.064242   0.028067      0.343179  0.091911  0.094807  0.228585   \n",
      "1    BT1187  0.016600   0.872636      0.011351  0.027116  0.027774  0.037215   \n",
      "\n",
      "   Fibroblasts         datasets            algo   T Cells  \n",
      "0     0.149208  SC_glioblastoma  Scaden_ascites  0.292827  \n",
      "1     0.007307  SC_glioblastoma  Scaden_ascites  0.053816  \n",
      "  >>  <<  \n",
      "(58, 13)\n",
      "  sample_id     CD8 T  Monocytes  Cancer Cells        NK        DC     CD4 T  \\\n",
      "0    BT1160  0.064242   0.028067      0.343179  0.091911  0.094807  0.228585   \n",
      "1    BT1187  0.016600   0.872636      0.011351  0.027116  0.027774  0.037215   \n",
      "\n",
      "   Fibroblasts         datasets            algo   T Cells  Lymphocytes  \\\n",
      "0     0.149208  SC_glioblastoma  Scaden_ascites  0.292827     0.384738   \n",
      "1     0.007307  SC_glioblastoma  Scaden_ascites  0.053816     0.080931   \n",
      "\n",
      "   Macrophages  \n",
      "0     0.028067  \n",
      "1     0.872636  \n"
     ]
    }
   ],
   "source": [
    "pred_dir = os.path.join(ind_ds_dir, 'validation_datasets_expression')\n",
    "ds2file_name = {'SC_glioblastoma': 'scaden_ascites_pred_cell_prop_sc_glioblastoma.txt', 'SC_HNSCC': 'scaden_ascites_pred_cell_prop_sc_hnscc.txt', \n",
    "                'SC_ovarian_cancer': 'scaden_ascites_pred_cell_prop_sc_overian.txt'}\n",
    "cell_prop_pred_scaden = []\n",
    "for ds, file in ds2file_name.items():\n",
    "    current_result = pd.read_csv(os.path.join(pred_dir, file), index_col=0, sep='\\t')\n",
    "    current_result['datasets'] = ds\n",
    "    print(ds, current_result.shape)\n",
    "    cell_prop_pred_scaden.append(current_result)\n",
    "cell_prop_pred_scaden_df = pd.concat(cell_prop_pred_scaden)\n",
    "cell_prop_pred_scaden_df['algo'] = 'Scaden_ascites'\n",
    "name_mapping = algo2cell_type_name_mapping['Scaden_ascites']\n",
    "name_mapping['index'] = 'sample_id'\n",
    "cell_prop_pred_scaden_df.reset_index(inplace=True)\n",
    "cell_prop_pred_scaden_df.rename(columns=name_mapping, inplace=True)\n",
    "cell_prop_pred_scaden_df['T Cells'] = cell_prop_pred_scaden_df.loc[:, ['CD4 T', 'CD8 T']].sum(axis=1)\n",
    "print(cell_prop_pred_scaden_df.head(2))\n",
    "cell_prop_pred_scaden_df['Lymphocytes'] = cell_prop_pred_scaden_df.loc[:, ['T Cells', 'NK']].sum(axis=1)\n",
    "cell_prop_pred_scaden_df['Macrophages'] = cell_prop_pred_scaden_df['Monocytes'].copy()\n",
    "print_df(cell_prop_pred_scaden_df)"
   ]
  },
  {
   "cell_type": "code",
   "execution_count": 8,
   "id": "2cc1dc0f-87d3-4e92-805a-cc61a19867ee",
   "metadata": {},
   "outputs": [
    {
     "data": {
      "text/html": [
       "<div>\n",
       "<style scoped>\n",
       "    .dataframe tbody tr th:only-of-type {\n",
       "        vertical-align: middle;\n",
       "    }\n",
       "\n",
       "    .dataframe tbody tr th {\n",
       "        vertical-align: top;\n",
       "    }\n",
       "\n",
       "    .dataframe thead th {\n",
       "        text-align: right;\n",
       "    }\n",
       "</style>\n",
       "<table border=\"1\" class=\"dataframe\">\n",
       "  <thead>\n",
       "    <tr style=\"text-align: right;\">\n",
       "      <th></th>\n",
       "      <th>sample_id</th>\n",
       "      <th>CD8 T</th>\n",
       "      <th>Monocytes</th>\n",
       "      <th>Cancer Cells</th>\n",
       "      <th>NK</th>\n",
       "      <th>DC</th>\n",
       "      <th>CD4 T</th>\n",
       "      <th>Fibroblasts</th>\n",
       "      <th>datasets</th>\n",
       "      <th>algo</th>\n",
       "      <th>T Cells</th>\n",
       "      <th>Lymphocytes</th>\n",
       "      <th>Macrophages</th>\n",
       "    </tr>\n",
       "  </thead>\n",
       "  <tbody>\n",
       "    <tr>\n",
       "      <th>0</th>\n",
       "      <td>BT1160</td>\n",
       "      <td>0.064242</td>\n",
       "      <td>0.028067</td>\n",
       "      <td>0.343179</td>\n",
       "      <td>0.091911</td>\n",
       "      <td>0.094807</td>\n",
       "      <td>0.228585</td>\n",
       "      <td>0.149208</td>\n",
       "      <td>SC_glioblastoma</td>\n",
       "      <td>Scaden_ascites</td>\n",
       "      <td>0.292827</td>\n",
       "      <td>0.384738</td>\n",
       "      <td>0.028067</td>\n",
       "    </tr>\n",
       "    <tr>\n",
       "      <th>1</th>\n",
       "      <td>BT1187</td>\n",
       "      <td>0.016600</td>\n",
       "      <td>0.872636</td>\n",
       "      <td>0.011351</td>\n",
       "      <td>0.027116</td>\n",
       "      <td>0.027774</td>\n",
       "      <td>0.037215</td>\n",
       "      <td>0.007307</td>\n",
       "      <td>SC_glioblastoma</td>\n",
       "      <td>Scaden_ascites</td>\n",
       "      <td>0.053816</td>\n",
       "      <td>0.080931</td>\n",
       "      <td>0.872636</td>\n",
       "    </tr>\n",
       "  </tbody>\n",
       "</table>\n",
       "</div>"
      ],
      "text/plain": [
       "  sample_id     CD8 T  Monocytes  Cancer Cells        NK        DC     CD4 T  \\\n",
       "0    BT1160  0.064242   0.028067      0.343179  0.091911  0.094807  0.228585   \n",
       "1    BT1187  0.016600   0.872636      0.011351  0.027116  0.027774  0.037215   \n",
       "\n",
       "   Fibroblasts         datasets            algo   T Cells  Lymphocytes  \\\n",
       "0     0.149208  SC_glioblastoma  Scaden_ascites  0.292827     0.384738   \n",
       "1     0.007307  SC_glioblastoma  Scaden_ascites  0.053816     0.080931   \n",
       "\n",
       "   Macrophages  \n",
       "0     0.028067  \n",
       "1     0.872636  "
      ]
     },
     "execution_count": 8,
     "metadata": {},
     "output_type": "execute_result"
    }
   ],
   "source": [
    "cell_prop_pred_scaden_df.head(2)"
   ]
  },
  {
   "cell_type": "code",
   "execution_count": 9,
   "id": "addc7e6a-67ce-411c-b409-5245f3723dc9",
   "metadata": {},
   "outputs": [
    {
     "name": "stdout",
     "output_type": "stream",
     "text": [
      "  >>  <<  \n",
      "(580, 5)\n",
      "  sample_id         datasets            algo cell_type  cell_proportion\n",
      "0    BT1160  SC_glioblastoma  Scaden_ascites     CD8 T         0.064242\n",
      "1    BT1187  SC_glioblastoma  Scaden_ascites     CD8 T         0.016600\n"
     ]
    }
   ],
   "source": [
    "cell_types = [\n",
    "    'CD8 T',\n",
    "    'Monocytes',\n",
    "    'Cancer Cells',\n",
    "    'NK',\n",
    "    'DC',\n",
    "    'CD4 T',\n",
    "    'Fibroblasts',\n",
    "    'T Cells',\n",
    "    'Lymphocytes',\n",
    "    'Macrophages',\n",
    "]\n",
    "cell_prop_pred_scaden_list = []\n",
    "for ct in cell_types:\n",
    "    current_part = cell_prop_pred_scaden_df.loc[:, ['sample_id', 'datasets', 'algo']].copy()\n",
    "    current_part['cell_type'] = ct\n",
    "    current_part['cell_proportion'] = cell_prop_pred_scaden_df.loc[:, ct].copy()\n",
    "    cell_prop_pred_scaden_list.append(current_part)\n",
    "cell_prop_pred_scaden_df_long = pd.concat(cell_prop_pred_scaden_list)\n",
    "print_df(cell_prop_pred_scaden_df_long)"
   ]
  },
  {
   "cell_type": "code",
   "execution_count": 10,
   "id": "616f1187-e616-4bb0-9cac-4a1ac60b8181",
   "metadata": {},
   "outputs": [
    {
     "name": "stdout",
     "output_type": "stream",
     "text": [
      "  >>  <<  \n",
      "(6860, 5)\n",
      "       sample_id    algo           cell_type  cell_proportion   datasets\n",
      "3050  SRR8030893  DeSide      Plasma B cells              0.0  GSE121127\n",
      "3051  SRR8030893  DeSide  Non-plasma B cells              0.0  GSE121127\n"
     ]
    }
   ],
   "source": [
    "cell_prop_pred_new = pd.concat([cell_prop_pred, cell_prop_pred_scaden_df_long])\n",
    "print_df(cell_prop_pred_new)"
   ]
  },
  {
   "cell_type": "code",
   "execution_count": 11,
   "id": "8bb3b563-d0c5-4c85-b3cd-a9c55176f83d",
   "metadata": {},
   "outputs": [
    {
     "data": {
      "text/plain": [
       "array(['DeSide', 'EPIC_TRef', 'HNSC_matrix_with_BC_CIBERSORTX',\n",
       "       'Kassandra', 'Scaden_ascites'], dtype=object)"
      ]
     },
     "execution_count": 11,
     "metadata": {},
     "output_type": "execute_result"
    }
   ],
   "source": [
    "cell_prop_pred_new['algo'].unique()"
   ]
  },
  {
   "cell_type": "markdown",
   "id": "c57b1048-08ef-4520-a4d9-6df7213573e8",
   "metadata": {},
   "source": [
    "### Dataset SC_glioblastoma"
   ]
  },
  {
   "cell_type": "code",
   "execution_count": 12,
   "id": "31f349f0-6dcf-4cd4-affa-8f5230a37b59",
   "metadata": {},
   "outputs": [
    {
     "name": "stdout",
     "output_type": "stream",
     "text": [
      "(28, 3)\n"
     ]
    },
    {
     "data": {
      "text/html": [
       "<div>\n",
       "<style scoped>\n",
       "    .dataframe tbody tr th:only-of-type {\n",
       "        vertical-align: middle;\n",
       "    }\n",
       "\n",
       "    .dataframe tbody tr th {\n",
       "        vertical-align: top;\n",
       "    }\n",
       "\n",
       "    .dataframe thead th {\n",
       "        text-align: right;\n",
       "    }\n",
       "</style>\n",
       "<table border=\"1\" class=\"dataframe\">\n",
       "  <thead>\n",
       "    <tr style=\"text-align: right;\">\n",
       "      <th></th>\n",
       "      <th>Macrophages</th>\n",
       "      <th>Cancer Cells</th>\n",
       "      <th>T Cells</th>\n",
       "    </tr>\n",
       "  </thead>\n",
       "  <tbody>\n",
       "    <tr>\n",
       "      <th>BT1160</th>\n",
       "      <td>0.000000</td>\n",
       "      <td>100.000000</td>\n",
       "      <td>0.000000</td>\n",
       "    </tr>\n",
       "    <tr>\n",
       "      <th>BT1187</th>\n",
       "      <td>89.954338</td>\n",
       "      <td>3.652968</td>\n",
       "      <td>6.392694</td>\n",
       "    </tr>\n",
       "  </tbody>\n",
       "</table>\n",
       "</div>"
      ],
      "text/plain": [
       "        Macrophages  Cancer Cells   T Cells\n",
       "BT1160     0.000000    100.000000  0.000000\n",
       "BT1187    89.954338      3.652968  6.392694"
      ]
     },
     "execution_count": 12,
     "metadata": {},
     "output_type": "execute_result"
    }
   ],
   "source": [
    "ds2 = 'SC_glioblastoma'\n",
    "cell_prop_true_gbm = pd.read_csv(f'{ind_ds_dir}/validation_datasets_cell_values/cell_values/{ds2}.csv', index_col=0).T\n",
    "print(cell_prop_true_gbm.shape)\n",
    "cell_prop_true_gbm.head(2)"
   ]
  },
  {
   "cell_type": "code",
   "execution_count": 13,
   "id": "cdf94427-7453-445d-87cc-fa1dfef3cc4d",
   "metadata": {},
   "outputs": [],
   "source": [
    "cell_prop_true_gbm = cell_prop_true_gbm / 100"
   ]
  },
  {
   "cell_type": "markdown",
   "id": "58cffdc0-3796-4df4-96b3-5ec746592121",
   "metadata": {},
   "source": [
    "### Dataset SC_HNSCC"
   ]
  },
  {
   "cell_type": "code",
   "execution_count": 14,
   "id": "7395f57c-f37a-4887-aa5a-ded4506d690a",
   "metadata": {},
   "outputs": [
    {
     "name": "stdout",
     "output_type": "stream",
     "text": [
      "(22, 14)\n"
     ]
    },
    {
     "data": {
      "text/html": [
       "<div>\n",
       "<style scoped>\n",
       "    .dataframe tbody tr th:only-of-type {\n",
       "        vertical-align: middle;\n",
       "    }\n",
       "\n",
       "    .dataframe tbody tr th {\n",
       "        vertical-align: top;\n",
       "    }\n",
       "\n",
       "    .dataframe thead th {\n",
       "        text-align: right;\n",
       "    }\n",
       "</style>\n",
       "<table border=\"1\" class=\"dataframe\">\n",
       "  <thead>\n",
       "    <tr style=\"text-align: right;\">\n",
       "      <th></th>\n",
       "      <th>CD4 T</th>\n",
       "      <th>DC</th>\n",
       "      <th>Endothelial Cells</th>\n",
       "      <th>Fibroblasts</th>\n",
       "      <th>Macrophages</th>\n",
       "      <th>Mast_cells</th>\n",
       "      <th>Myofibroblasts</th>\n",
       "      <th>Non-plasma B cells</th>\n",
       "      <th>Plasma B cells</th>\n",
       "      <th>Cancer Cells</th>\n",
       "      <th>CD8 T</th>\n",
       "      <th>T Cells</th>\n",
       "      <th>B Cells</th>\n",
       "      <th>Lymphocytes</th>\n",
       "    </tr>\n",
       "  </thead>\n",
       "  <tbody>\n",
       "    <tr>\n",
       "      <th>lymph_node_20</th>\n",
       "      <td>0.000000</td>\n",
       "      <td>0.000000</td>\n",
       "      <td>0.0</td>\n",
       "      <td>0.000000</td>\n",
       "      <td>0.000000</td>\n",
       "      <td>0.000000</td>\n",
       "      <td>0.292398</td>\n",
       "      <td>0.000000</td>\n",
       "      <td>0.000000</td>\n",
       "      <td>99.707602</td>\n",
       "      <td>0.000000</td>\n",
       "      <td>0.000000</td>\n",
       "      <td>0.000000</td>\n",
       "      <td>0.000000</td>\n",
       "    </tr>\n",
       "    <tr>\n",
       "      <th>lymph_node_25</th>\n",
       "      <td>22.068966</td>\n",
       "      <td>0.689655</td>\n",
       "      <td>0.0</td>\n",
       "      <td>3.103448</td>\n",
       "      <td>0.689655</td>\n",
       "      <td>1.034483</td>\n",
       "      <td>33.103448</td>\n",
       "      <td>0.344828</td>\n",
       "      <td>8.965517</td>\n",
       "      <td>25.862069</td>\n",
       "      <td>4.137931</td>\n",
       "      <td>26.206897</td>\n",
       "      <td>9.310345</td>\n",
       "      <td>35.517241</td>\n",
       "    </tr>\n",
       "  </tbody>\n",
       "</table>\n",
       "</div>"
      ],
      "text/plain": [
       "                   CD4 T        DC  Endothelial Cells  Fibroblasts  \\\n",
       "lymph_node_20   0.000000  0.000000                0.0     0.000000   \n",
       "lymph_node_25  22.068966  0.689655                0.0     3.103448   \n",
       "\n",
       "               Macrophages  Mast_cells  Myofibroblasts  Non-plasma B cells  \\\n",
       "lymph_node_20     0.000000    0.000000        0.292398            0.000000   \n",
       "lymph_node_25     0.689655    1.034483       33.103448            0.344828   \n",
       "\n",
       "               Plasma B cells  Cancer Cells     CD8 T    T Cells   B Cells  \\\n",
       "lymph_node_20        0.000000     99.707602  0.000000   0.000000  0.000000   \n",
       "lymph_node_25        8.965517     25.862069  4.137931  26.206897  9.310345   \n",
       "\n",
       "               Lymphocytes  \n",
       "lymph_node_20     0.000000  \n",
       "lymph_node_25    35.517241  "
      ]
     },
     "execution_count": 14,
     "metadata": {},
     "output_type": "execute_result"
    }
   ],
   "source": [
    "ds3 = 'SC_HNSCC'\n",
    "cell_prop_true_hnscc = pd.read_csv(f'{ind_ds_dir}/validation_datasets_cell_values/cell_values/{ds3}.csv', index_col=0).T\n",
    "print(cell_prop_true_hnscc.shape)\n",
    "cell_prop_true_hnscc.head(2)"
   ]
  },
  {
   "cell_type": "code",
   "execution_count": 15,
   "id": "4b437902-9b8c-4719-88cd-9545ee0d089e",
   "metadata": {},
   "outputs": [],
   "source": [
    "cell_prop_true_hnscc = cell_prop_true_hnscc / 100"
   ]
  },
  {
   "cell_type": "markdown",
   "id": "2283a598-d28e-4d09-b14d-16ed579cb1eb",
   "metadata": {},
   "source": [
    "### Dataset SC_ovarian_cancer"
   ]
  },
  {
   "cell_type": "code",
   "execution_count": 16,
   "id": "f87c45eb-f128-40a2-bddd-42b2077f5df7",
   "metadata": {},
   "outputs": [
    {
     "name": "stdout",
     "output_type": "stream",
     "text": [
      "(8, 7)\n"
     ]
    },
    {
     "data": {
      "text/html": [
       "<div>\n",
       "<style scoped>\n",
       "    .dataframe tbody tr th:only-of-type {\n",
       "        vertical-align: middle;\n",
       "    }\n",
       "\n",
       "    .dataframe tbody tr th {\n",
       "        vertical-align: top;\n",
       "    }\n",
       "\n",
       "    .dataframe thead th {\n",
       "        text-align: right;\n",
       "    }\n",
       "</style>\n",
       "<table border=\"1\" class=\"dataframe\">\n",
       "  <thead>\n",
       "    <tr style=\"text-align: right;\">\n",
       "      <th></th>\n",
       "      <th>B Cells</th>\n",
       "      <th>DC</th>\n",
       "      <th>Fibroblasts</th>\n",
       "      <th>Macrophages</th>\n",
       "      <th>NK</th>\n",
       "      <th>T Cells</th>\n",
       "      <th>Cancer Cells</th>\n",
       "    </tr>\n",
       "  </thead>\n",
       "  <tbody>\n",
       "    <tr>\n",
       "      <th>Sample_1976.0</th>\n",
       "      <td>0.282486</td>\n",
       "      <td>3.389831</td>\n",
       "      <td>11.299435</td>\n",
       "      <td>40.960452</td>\n",
       "      <td>0.564972</td>\n",
       "      <td>0.282486</td>\n",
       "      <td>43.220339</td>\n",
       "    </tr>\n",
       "    <tr>\n",
       "      <th>Sample_3250.0</th>\n",
       "      <td>0.000000</td>\n",
       "      <td>0.000000</td>\n",
       "      <td>4.347826</td>\n",
       "      <td>2.173913</td>\n",
       "      <td>61.956522</td>\n",
       "      <td>0.000000</td>\n",
       "      <td>22.826087</td>\n",
       "    </tr>\n",
       "  </tbody>\n",
       "</table>\n",
       "</div>"
      ],
      "text/plain": [
       "                B Cells        DC  Fibroblasts  Macrophages         NK  \\\n",
       "Sample_1976.0  0.282486  3.389831    11.299435    40.960452   0.564972   \n",
       "Sample_3250.0  0.000000  0.000000     4.347826     2.173913  61.956522   \n",
       "\n",
       "                T Cells  Cancer Cells  \n",
       "Sample_1976.0  0.282486     43.220339  \n",
       "Sample_3250.0  0.000000     22.826087  "
      ]
     },
     "execution_count": 16,
     "metadata": {},
     "output_type": "execute_result"
    }
   ],
   "source": [
    "ds4 = 'SC_ovarian_cancer'\n",
    "cell_prop_true_ov = pd.read_csv(f'{ind_ds_dir}/validation_datasets_cell_values/cell_values/{ds4}.csv', index_col=0).T\n",
    "print(cell_prop_true_ov.shape)\n",
    "cell_prop_true_ov.head(2)"
   ]
  },
  {
   "cell_type": "code",
   "execution_count": 17,
   "id": "29be78f5-834c-4503-b400-871dd9719a03",
   "metadata": {},
   "outputs": [],
   "source": [
    "cell_prop_true_ov = cell_prop_true_ov / 100"
   ]
  },
  {
   "cell_type": "code",
   "execution_count": 18,
   "id": "3db479b7-5aad-4335-9e62-724782a72fc0",
   "metadata": {},
   "outputs": [
    {
     "name": "stdout",
     "output_type": "stream",
     "text": [
      "(58, 15)\n"
     ]
    },
    {
     "data": {
      "text/html": [
       "<div>\n",
       "<style scoped>\n",
       "    .dataframe tbody tr th:only-of-type {\n",
       "        vertical-align: middle;\n",
       "    }\n",
       "\n",
       "    .dataframe tbody tr th {\n",
       "        vertical-align: top;\n",
       "    }\n",
       "\n",
       "    .dataframe thead th {\n",
       "        text-align: right;\n",
       "    }\n",
       "</style>\n",
       "<table border=\"1\" class=\"dataframe\">\n",
       "  <thead>\n",
       "    <tr style=\"text-align: right;\">\n",
       "      <th></th>\n",
       "      <th>Macrophages</th>\n",
       "      <th>Cancer Cells</th>\n",
       "      <th>T Cells</th>\n",
       "      <th>CD4 T</th>\n",
       "      <th>DC</th>\n",
       "      <th>Endothelial Cells</th>\n",
       "      <th>Fibroblasts</th>\n",
       "      <th>Mast_cells</th>\n",
       "      <th>Myofibroblasts</th>\n",
       "      <th>Non-plasma B cells</th>\n",
       "      <th>Plasma B cells</th>\n",
       "      <th>CD8 T</th>\n",
       "      <th>B Cells</th>\n",
       "      <th>Lymphocytes</th>\n",
       "      <th>NK</th>\n",
       "    </tr>\n",
       "  </thead>\n",
       "  <tbody>\n",
       "    <tr>\n",
       "      <th>BT1160</th>\n",
       "      <td>0.000000</td>\n",
       "      <td>1.00000</td>\n",
       "      <td>0.000000</td>\n",
       "      <td>NaN</td>\n",
       "      <td>NaN</td>\n",
       "      <td>NaN</td>\n",
       "      <td>NaN</td>\n",
       "      <td>NaN</td>\n",
       "      <td>NaN</td>\n",
       "      <td>NaN</td>\n",
       "      <td>NaN</td>\n",
       "      <td>NaN</td>\n",
       "      <td>NaN</td>\n",
       "      <td>NaN</td>\n",
       "      <td>NaN</td>\n",
       "    </tr>\n",
       "    <tr>\n",
       "      <th>BT1187</th>\n",
       "      <td>0.899543</td>\n",
       "      <td>0.03653</td>\n",
       "      <td>0.063927</td>\n",
       "      <td>NaN</td>\n",
       "      <td>NaN</td>\n",
       "      <td>NaN</td>\n",
       "      <td>NaN</td>\n",
       "      <td>NaN</td>\n",
       "      <td>NaN</td>\n",
       "      <td>NaN</td>\n",
       "      <td>NaN</td>\n",
       "      <td>NaN</td>\n",
       "      <td>NaN</td>\n",
       "      <td>NaN</td>\n",
       "      <td>NaN</td>\n",
       "    </tr>\n",
       "  </tbody>\n",
       "</table>\n",
       "</div>"
      ],
      "text/plain": [
       "        Macrophages  Cancer Cells   T Cells  CD4 T  DC  Endothelial Cells  \\\n",
       "BT1160     0.000000       1.00000  0.000000    NaN NaN                NaN   \n",
       "BT1187     0.899543       0.03653  0.063927    NaN NaN                NaN   \n",
       "\n",
       "        Fibroblasts  Mast_cells  Myofibroblasts  Non-plasma B cells  \\\n",
       "BT1160          NaN         NaN             NaN                 NaN   \n",
       "BT1187          NaN         NaN             NaN                 NaN   \n",
       "\n",
       "        Plasma B cells  CD8 T  B Cells  Lymphocytes  NK  \n",
       "BT1160             NaN    NaN      NaN          NaN NaN  \n",
       "BT1187             NaN    NaN      NaN          NaN NaN  "
      ]
     },
     "execution_count": 18,
     "metadata": {},
     "output_type": "execute_result"
    }
   ],
   "source": [
    "all_ground_truth = pd.concat([cell_prop_true_gbm, cell_prop_true_hnscc, cell_prop_true_ov])\n",
    "print(all_ground_truth.shape)\n",
    "all_ground_truth.head(2)"
   ]
  },
  {
   "cell_type": "code",
   "execution_count": 19,
   "id": "dd2ea555-863c-47e4-bc7b-8867cb330992",
   "metadata": {},
   "outputs": [
    {
     "data": {
      "text/html": [
       "<div>\n",
       "<style scoped>\n",
       "    .dataframe tbody tr th:only-of-type {\n",
       "        vertical-align: middle;\n",
       "    }\n",
       "\n",
       "    .dataframe tbody tr th {\n",
       "        vertical-align: top;\n",
       "    }\n",
       "\n",
       "    .dataframe thead th {\n",
       "        text-align: right;\n",
       "    }\n",
       "</style>\n",
       "<table border=\"1\" class=\"dataframe\">\n",
       "  <thead>\n",
       "    <tr style=\"text-align: right;\">\n",
       "      <th></th>\n",
       "      <th>sample_id</th>\n",
       "      <th>algo</th>\n",
       "      <th>cell_type</th>\n",
       "      <th>cell_proportion</th>\n",
       "      <th>datasets</th>\n",
       "    </tr>\n",
       "  </thead>\n",
       "  <tbody>\n",
       "    <tr>\n",
       "      <th>3050</th>\n",
       "      <td>SRR8030893</td>\n",
       "      <td>DeSide</td>\n",
       "      <td>Plasma B cells</td>\n",
       "      <td>0.0</td>\n",
       "      <td>GSE121127</td>\n",
       "    </tr>\n",
       "    <tr>\n",
       "      <th>3051</th>\n",
       "      <td>SRR8030893</td>\n",
       "      <td>DeSide</td>\n",
       "      <td>Non-plasma B cells</td>\n",
       "      <td>0.0</td>\n",
       "      <td>GSE121127</td>\n",
       "    </tr>\n",
       "  </tbody>\n",
       "</table>\n",
       "</div>"
      ],
      "text/plain": [
       "       sample_id    algo           cell_type  cell_proportion   datasets\n",
       "3050  SRR8030893  DeSide      Plasma B cells              0.0  GSE121127\n",
       "3051  SRR8030893  DeSide  Non-plasma B cells              0.0  GSE121127"
      ]
     },
     "execution_count": 19,
     "metadata": {},
     "output_type": "execute_result"
    }
   ],
   "source": [
    "cell_prop_pred_new.head(2)"
   ]
  },
  {
   "cell_type": "code",
   "execution_count": 20,
   "id": "e978f646-ff7b-4080-9eca-06775203d899",
   "metadata": {},
   "outputs": [
    {
     "name": "stdout",
     "output_type": "stream",
     "text": [
      "DeSide B Cells SC_HNSCC (22, 6)\n",
      "DeSide B Cells SC_ovarian_cancer (8, 6)\n",
      "DeSide CD4 T SC_HNSCC (22, 6)\n",
      "DeSide CD8 T SC_HNSCC (22, 6)\n",
      "DeSide Cancer Cells SC_HNSCC (22, 6)\n",
      "DeSide Cancer Cells SC_glioblastoma (28, 6)\n",
      "DeSide Cancer Cells SC_ovarian_cancer (8, 6)\n",
      "DeSide DC SC_HNSCC (22, 6)\n",
      "DeSide DC SC_ovarian_cancer (8, 6)\n",
      "DeSide Endothelial Cells SC_HNSCC (22, 6)\n",
      "DeSide Fibroblasts SC_HNSCC (22, 6)\n",
      "DeSide Fibroblasts SC_ovarian_cancer (8, 6)\n",
      "DeSide Lymphocytes SC_HNSCC (22, 6)\n",
      "DeSide Macrophages SC_HNSCC (22, 6)\n",
      "DeSide Macrophages SC_glioblastoma (28, 6)\n",
      "DeSide Macrophages SC_ovarian_cancer (8, 6)\n",
      "DeSide Myofibroblasts SC_HNSCC (22, 6)\n",
      "DeSide NK SC_ovarian_cancer (8, 6)\n",
      "DeSide Non-plasma B cells SC_HNSCC (22, 6)\n",
      "DeSide Plasma B cells SC_HNSCC (22, 6)\n",
      "DeSide T Cells SC_HNSCC (22, 6)\n",
      "DeSide T Cells SC_glioblastoma (28, 6)\n",
      "DeSide T Cells SC_ovarian_cancer (8, 6)\n",
      "EPIC_TRef B Cells SC_HNSCC (22, 6)\n",
      "EPIC_TRef B Cells SC_ovarian_cancer (8, 6)\n",
      "EPIC_TRef CD4 T SC_HNSCC (22, 6)\n",
      "EPIC_TRef CD8 T SC_HNSCC (22, 6)\n",
      "EPIC_TRef Cancer Cells SC_HNSCC (22, 6)\n",
      "EPIC_TRef Cancer Cells SC_glioblastoma (28, 6)\n",
      "EPIC_TRef Cancer Cells SC_ovarian_cancer (8, 6)\n",
      "EPIC_TRef Endothelial Cells SC_HNSCC (22, 6)\n",
      "EPIC_TRef Fibroblasts SC_HNSCC (22, 6)\n",
      "EPIC_TRef Fibroblasts SC_ovarian_cancer (8, 6)\n",
      "EPIC_TRef Lymphocytes SC_HNSCC (22, 6)\n",
      "EPIC_TRef Macrophages SC_HNSCC (22, 6)\n",
      "EPIC_TRef Macrophages SC_glioblastoma (28, 6)\n",
      "EPIC_TRef Macrophages SC_ovarian_cancer (8, 6)\n",
      "EPIC_TRef NK SC_ovarian_cancer (8, 6)\n",
      "EPIC_TRef T Cells SC_HNSCC (22, 6)\n",
      "EPIC_TRef T Cells SC_glioblastoma (28, 6)\n",
      "EPIC_TRef T Cells SC_ovarian_cancer (8, 6)\n",
      "HNSC_matrix_with_BC_CIBERSORTX B Cells SC_HNSCC (22, 6)\n",
      "HNSC_matrix_with_BC_CIBERSORTX B Cells SC_ovarian_cancer (8, 6)\n",
      "HNSC_matrix_with_BC_CIBERSORTX CD4 T SC_HNSCC (22, 6)\n",
      "HNSC_matrix_with_BC_CIBERSORTX CD8 T SC_HNSCC (22, 6)\n",
      "HNSC_matrix_with_BC_CIBERSORTX Cancer Cells SC_HNSCC (22, 6)\n",
      "HNSC_matrix_with_BC_CIBERSORTX Cancer Cells SC_glioblastoma (28, 6)\n",
      "HNSC_matrix_with_BC_CIBERSORTX Cancer Cells SC_ovarian_cancer (8, 6)\n",
      "HNSC_matrix_with_BC_CIBERSORTX DC SC_HNSCC (22, 6)\n",
      "HNSC_matrix_with_BC_CIBERSORTX DC SC_ovarian_cancer (8, 6)\n",
      "HNSC_matrix_with_BC_CIBERSORTX Endothelial Cells SC_HNSCC (22, 6)\n",
      "HNSC_matrix_with_BC_CIBERSORTX Fibroblasts SC_HNSCC (22, 6)\n",
      "HNSC_matrix_with_BC_CIBERSORTX Fibroblasts SC_ovarian_cancer (8, 6)\n",
      "HNSC_matrix_with_BC_CIBERSORTX Macrophages SC_HNSCC (22, 6)\n",
      "HNSC_matrix_with_BC_CIBERSORTX Macrophages SC_glioblastoma (28, 6)\n",
      "HNSC_matrix_with_BC_CIBERSORTX Macrophages SC_ovarian_cancer (8, 6)\n",
      "HNSC_matrix_with_BC_CIBERSORTX T Cells SC_HNSCC (22, 6)\n",
      "HNSC_matrix_with_BC_CIBERSORTX T Cells SC_glioblastoma (28, 6)\n",
      "HNSC_matrix_with_BC_CIBERSORTX T Cells SC_ovarian_cancer (8, 6)\n",
      "Kassandra B Cells SC_HNSCC (22, 6)\n",
      "Kassandra B Cells SC_ovarian_cancer (8, 6)\n",
      "Kassandra CD4 T SC_HNSCC (22, 6)\n",
      "Kassandra CD8 T SC_HNSCC (22, 6)\n",
      "Kassandra Cancer Cells SC_HNSCC (22, 6)\n",
      "Kassandra Cancer Cells SC_glioblastoma (28, 6)\n",
      "Kassandra Cancer Cells SC_ovarian_cancer (8, 6)\n",
      "Kassandra Endothelial Cells SC_HNSCC (22, 6)\n",
      "Kassandra Fibroblasts SC_HNSCC (22, 6)\n",
      "Kassandra Fibroblasts SC_ovarian_cancer (8, 6)\n",
      "Kassandra Lymphocytes SC_HNSCC (22, 6)\n",
      "Kassandra Macrophages SC_HNSCC (22, 6)\n",
      "Kassandra Macrophages SC_glioblastoma (28, 6)\n",
      "Kassandra Macrophages SC_ovarian_cancer (8, 6)\n",
      "Kassandra NK SC_ovarian_cancer (8, 6)\n",
      "Kassandra Non-plasma B cells SC_HNSCC (22, 6)\n",
      "Kassandra Plasma B cells SC_HNSCC (22, 6)\n",
      "Kassandra T Cells SC_HNSCC (22, 6)\n",
      "Kassandra T Cells SC_glioblastoma (28, 6)\n",
      "Kassandra T Cells SC_ovarian_cancer (8, 6)\n",
      "Scaden_ascites CD4 T SC_HNSCC (22, 6)\n",
      "Scaden_ascites CD8 T SC_HNSCC (22, 6)\n",
      "Scaden_ascites Cancer Cells SC_HNSCC (22, 6)\n",
      "Scaden_ascites Cancer Cells SC_glioblastoma (28, 6)\n",
      "Scaden_ascites Cancer Cells SC_ovarian_cancer (8, 6)\n",
      "Scaden_ascites DC SC_HNSCC (22, 6)\n",
      "Scaden_ascites DC SC_ovarian_cancer (8, 6)\n",
      "Scaden_ascites Fibroblasts SC_HNSCC (22, 6)\n",
      "Scaden_ascites Fibroblasts SC_ovarian_cancer (8, 6)\n",
      "Scaden_ascites Lymphocytes SC_HNSCC (22, 6)\n",
      "Scaden_ascites Macrophages SC_HNSCC (22, 6)\n",
      "Scaden_ascites Macrophages SC_glioblastoma (28, 6)\n",
      "Scaden_ascites Macrophages SC_ovarian_cancer (8, 6)\n",
      "Scaden_ascites NK SC_ovarian_cancer (8, 6)\n",
      "Scaden_ascites T Cells SC_HNSCC (22, 6)\n",
      "Scaden_ascites T Cells SC_glioblastoma (28, 6)\n",
      "Scaden_ascites T Cells SC_ovarian_cancer (8, 6)\n",
      "                                          corr\n",
      "(DeSide, B Cells, SC_HNSCC)           0.924158\n",
      "(DeSide, B Cells, SC_ovarian_cancer)  0.528312\n",
      "  >>  <<  \n",
      "(96, 4)\n",
      "                                          corr Algorithm Cell type  \\\n",
      "(DeSide, B Cells, SC_HNSCC)           0.924158    DeSide   B Cells   \n",
      "(DeSide, B Cells, SC_ovarian_cancer)  0.528312    DeSide   B Cells   \n",
      "\n",
      "                                                dataset  \n",
      "(DeSide, B Cells, SC_HNSCC)                    SC_HNSCC  \n",
      "(DeSide, B Cells, SC_ovarian_cancer)  SC_ovarian_cancer  \n"
     ]
    }
   ],
   "source": [
    "algo_ct2ccc = {}\n",
    "for (algo, cell_type, dataset), group in cell_prop_pred_new.groupby(['algo', 'cell_type', 'datasets']):\n",
    "    if cell_type in all_ground_truth.columns and dataset != 'GSE121127':\n",
    "        group['cell_proportion_pred'] = group['cell_proportion']\n",
    "        # print(group)\n",
    "        if algo not in ['DeSide', 'Scaden_ascites']:\n",
    "            group['cell_proportion_pred'] = group['cell_proportion'] / 100\n",
    "        group = group.set_index('sample_id')\n",
    "        current_true = all_ground_truth.loc[:, [cell_type]].copy()\n",
    "        current_true = current_true.loc[~current_true[cell_type].isna(), :].copy()\n",
    "        # print(current_true)\n",
    "        group_new = current_true.join(group, how='inner')\n",
    "        if group_new.shape[0] > 0:\n",
    "            print(algo, cell_type, dataset, group_new.shape)\n",
    "            # print(group_new)\n",
    "            algo_ct2ccc[(algo, cell_type, dataset)] = get_corr_spearman(group_new[cell_type], group_new['cell_proportion_pred'])\n",
    "algo_ct2ccc_df_ds4 = pd.DataFrame.from_dict(algo_ct2ccc, orient='index', columns=['corr'])\n",
    "print(algo_ct2ccc_df_ds4.head(2))\n",
    "# algo_ct2ccc_df = algo_ct2ccc_df.reset_index()\n",
    "algo_ct2ccc_df_ds4['Algorithm'] = algo_ct2ccc_df_ds4.index.map(lambda x: x[0].replace('_matrix_with_BC', ''))\n",
    "algo_ct2ccc_df_ds4['Cell type'] = algo_ct2ccc_df_ds4.index.map(lambda x: x[1])\n",
    "algo_ct2ccc_df_ds4['dataset'] = algo_ct2ccc_df_ds4.index.map(lambda x: x[2])\n",
    "print_df(algo_ct2ccc_df_ds4)"
   ]
  },
  {
   "cell_type": "markdown",
   "id": "eb2b58c5-fe5c-4419-99cc-c4ce02371358",
   "metadata": {},
   "source": [
    "### Plot"
   ]
  },
  {
   "cell_type": "code",
   "execution_count": 21,
   "id": "969dc330-47b1-4c07-8282-39d47bb581fa",
   "metadata": {},
   "outputs": [
    {
     "data": {
      "text/plain": [
       "array(['DeSide', 'EPIC_TRef', 'CIBERSORTx_HNSCC', 'Kassandra',\n",
       "       'Scaden_ascites'], dtype=object)"
      ]
     },
     "execution_count": 21,
     "metadata": {},
     "output_type": "execute_result"
    }
   ],
   "source": [
    "algo_name_mapping = {'HNSC_CIBERSORTX': 'CIBERSORTx_HNSCC'}\n",
    "algo_ct2ccc_df_ds4['Algorithm'] = algo_ct2ccc_df_ds4['Algorithm'].map(lambda x: algo_name_mapping.get(x, x))\n",
    "algo_ct2ccc_df_ds4['Algorithm'].unique()"
   ]
  },
  {
   "cell_type": "code",
   "execution_count": 22,
   "id": "ca67a5d5-fc8b-499f-8f6d-ae284ac528f8",
   "metadata": {},
   "outputs": [
    {
     "data": {
      "text/html": [
       "<svg  width=\"275\" height=\"55\"><rect x=\"0\" y=\"0\" width=\"55\" height=\"55\" style=\"fill:#1f78b4;stroke-width:2;stroke:rgb(255,255,255)\"/><rect x=\"55\" y=\"0\" width=\"55\" height=\"55\" style=\"fill:#b15928;stroke-width:2;stroke:rgb(255,255,255)\"/><rect x=\"110\" y=\"0\" width=\"55\" height=\"55\" style=\"fill:#ff7f00;stroke-width:2;stroke:rgb(255,255,255)\"/><rect x=\"165\" y=\"0\" width=\"55\" height=\"55\" style=\"fill:#33a02c;stroke-width:2;stroke:rgb(255,255,255)\"/><rect x=\"220\" y=\"0\" width=\"55\" height=\"55\" style=\"fill:#e31a1c;stroke-width:2;stroke:rgb(255,255,255)\"/></svg>"
      ],
      "text/plain": [
       "[(0.12156862745098039, 0.47058823529411764, 0.7058823529411765),\n",
       " (0.6941176470588235, 0.34901960784313724, 0.1568627450980392),\n",
       " (1.0, 0.4980392156862745, 0.0),\n",
       " (0.2, 0.6274509803921569, 0.17254901960784313),\n",
       " (0.8901960784313725, 0.10196078431372549, 0.10980392156862745)]"
      ]
     },
     "execution_count": 22,
     "metadata": {},
     "output_type": "execute_result"
    }
   ],
   "source": [
    "selected_colors = [sns.color_palette(\"Paired\")[i] for i in [1, 11, 7, 3, 5]]  #  [1, 0, 3, 2, 5, 4, 7, 11, 9]\n",
    "sns.color_palette(selected_colors)"
   ]
  },
  {
   "cell_type": "code",
   "execution_count": 23,
   "id": "c9707fe2-f2f0-46f4-888c-d2ff374ed22e",
   "metadata": {},
   "outputs": [],
   "source": [
    "# algos = ['DeSide', 'Kassandra', 'ABIS', 'fardeep_absolute', \n",
    "#          'EPIC_BRef', 'EPIC_TRef',\n",
    "#          'HNSC_CIBERSORTX', 'LM22_CIBERSORTX', \n",
    "#          'quantiseq', 'quantiseq_tumor']\n",
    "algos = ['DeSide', 'Kassandra', 'EPIC_TRef',\n",
    "         'CIBERSORTx_HNSCC', 'Scaden_ascites']\n",
    "algo2color = {algos[i]: selected_colors[i] for i in range(5)}"
   ]
  },
  {
   "cell_type": "code",
   "execution_count": 24,
   "id": "ea2dd28a-d8d7-4255-adcf-a6024dae3821",
   "metadata": {},
   "outputs": [
    {
     "name": "stdout",
     "output_type": "stream",
     "text": [
      "(50, 4)\n"
     ]
    },
    {
     "data": {
      "text/html": [
       "<div>\n",
       "<style scoped>\n",
       "    .dataframe tbody tr th:only-of-type {\n",
       "        vertical-align: middle;\n",
       "    }\n",
       "\n",
       "    .dataframe tbody tr th {\n",
       "        vertical-align: top;\n",
       "    }\n",
       "\n",
       "    .dataframe thead th {\n",
       "        text-align: right;\n",
       "    }\n",
       "</style>\n",
       "<table border=\"1\" class=\"dataframe\">\n",
       "  <thead>\n",
       "    <tr style=\"text-align: right;\">\n",
       "      <th></th>\n",
       "      <th>corr</th>\n",
       "      <th>Algorithm</th>\n",
       "      <th>Cell type</th>\n",
       "      <th>dataset</th>\n",
       "    </tr>\n",
       "  </thead>\n",
       "  <tbody>\n",
       "    <tr>\n",
       "      <th>(DeSide, B Cells, SC_HNSCC)</th>\n",
       "      <td>0.924158</td>\n",
       "      <td>DeSide</td>\n",
       "      <td>B Cells</td>\n",
       "      <td>SC_HNSCC</td>\n",
       "    </tr>\n",
       "    <tr>\n",
       "      <th>(DeSide, CD4 T, SC_HNSCC)</th>\n",
       "      <td>0.832943</td>\n",
       "      <td>DeSide</td>\n",
       "      <td>CD4 T</td>\n",
       "      <td>SC_HNSCC</td>\n",
       "    </tr>\n",
       "  </tbody>\n",
       "</table>\n",
       "</div>"
      ],
      "text/plain": [
       "                                 corr Algorithm Cell type   dataset\n",
       "(DeSide, B Cells, SC_HNSCC)  0.924158    DeSide   B Cells  SC_HNSCC\n",
       "(DeSide, CD4 T, SC_HNSCC)    0.832943    DeSide     CD4 T  SC_HNSCC"
      ]
     },
     "execution_count": 24,
     "metadata": {},
     "output_type": "execute_result"
    }
   ],
   "source": [
    "algo_ct2ccc_df_hnscc = algo_ct2ccc_df_ds4.loc[algo_ct2ccc_df_ds4['dataset'] == 'SC_HNSCC', :].copy()\n",
    "print(algo_ct2ccc_df_hnscc.shape)\n",
    "algo_ct2ccc_df_hnscc.head(2)"
   ]
  },
  {
   "cell_type": "code",
   "execution_count": 25,
   "id": "5b1b8360-e943-4be2-8ea2-a0eec4d920ce",
   "metadata": {},
   "outputs": [
    {
     "data": {
      "image/png": "[encoded data removed]",
      "text/plain": [
       "<Figure size 1950x450 with 2 Axes>"
      ]
     },
     "metadata": {},
     "output_type": "display_data"
    }
   ],
   "source": [
    "fig, ax1 = plt.subplots(1, 1, figsize=(6.5, 1.5))\n",
    "\n",
    "hue_order_ds3 = [i for i in algos if i in algo_ct2ccc_df_hnscc['Algorithm'].unique()]\n",
    "g1 = sns.barplot(algo_ct2ccc_df_hnscc, x=\"Cell type\", y=\"corr\", hue=\"Algorithm\", \n",
    "                 palette=[algo2color[algo] for algo in hue_order_ds3], ax=ax1, hue_order=hue_order_ds3)\n",
    "g1legend = g1.legend()\n",
    "sns.move_legend(g1, 'upper left',  bbox_to_anchor=(0, 1.12), ncol=5, title=None, frameon=False, fontsize=5.8, borderpad=0, handletextpad=0)\n",
    "ax1.grid(axis='y')\n",
    "for _x in range(13):\n",
    "    ax1.axvline(_x - 0.5, color='lightgray', linewidth=0.5)\n",
    "g1.set_yticks([0, 0.2, 0.4, 0.6, 0.8, 1])\n",
    "ax1.set_xlabel('')\n",
    "ax1.set_ylabel('')\n",
    "ax1.tick_params(axis='x', labelrotation=25, labelsize=7)\n",
    "\n",
    "# add a big axis, hide frame\n",
    "fig.add_subplot(111, frameon=False)\n",
    "# hide tick and tick label of the big axis\\n\",\n",
    "plt.tick_params(labelcolor='none', which='both', top=False, bottom=False, left=False, right=False)\n",
    "plt.xlabel(\"\")\n",
    "plt.ylabel('Spearman Correlation ' + '\\n(' + f'SC_HNSC, 22' + ')', fontsize=7)\n",
    "\n",
    "plt.savefig(os.path.join(fig_dir, 'cell_type_wise_corr_spearman_hnscc.svg'), dpi=300)"
   ]
  },
  {
   "cell_type": "code",
   "execution_count": 26,
   "id": "079114b2-f64e-4c86-9ca7-8447ad91105f",
   "metadata": {},
   "outputs": [
    {
     "data": {
      "text/plain": [
       "array(['SC_HNSCC', 'SC_ovarian_cancer', 'SC_glioblastoma'], dtype=object)"
      ]
     },
     "execution_count": 26,
     "metadata": {},
     "output_type": "execute_result"
    }
   ],
   "source": [
    "algo_ct2ccc_df_ds4['dataset'].unique()"
   ]
  },
  {
   "cell_type": "code",
   "execution_count": 27,
   "id": "0520caae-f1ab-4e70-bc97-be08aa49cebf",
   "metadata": {},
   "outputs": [
    {
     "name": "stdout",
     "output_type": "stream",
     "text": [
      "(26, 4)\n"
     ]
    },
    {
     "data": {
      "text/html": [
       "<div>\n",
       "<style scoped>\n",
       "    .dataframe tbody tr th:only-of-type {\n",
       "        vertical-align: middle;\n",
       "    }\n",
       "\n",
       "    .dataframe tbody tr th {\n",
       "        vertical-align: top;\n",
       "    }\n",
       "\n",
       "    .dataframe thead th {\n",
       "        text-align: right;\n",
       "    }\n",
       "</style>\n",
       "<table border=\"1\" class=\"dataframe\">\n",
       "  <thead>\n",
       "    <tr style=\"text-align: right;\">\n",
       "      <th></th>\n",
       "      <th>corr</th>\n",
       "      <th>Algorithm</th>\n",
       "      <th>Cell type</th>\n",
       "      <th>dataset</th>\n",
       "    </tr>\n",
       "  </thead>\n",
       "  <tbody>\n",
       "    <tr>\n",
       "      <th>(DeSide, B Cells, SC_ovarian_cancer)</th>\n",
       "      <td>0.528312</td>\n",
       "      <td>DeSide</td>\n",
       "      <td>B Cells</td>\n",
       "      <td>SC_ovarian_cancer</td>\n",
       "    </tr>\n",
       "    <tr>\n",
       "      <th>(DeSide, Cancer Cells, SC_ovarian_cancer)</th>\n",
       "      <td>0.574861</td>\n",
       "      <td>DeSide</td>\n",
       "      <td>Cancer Cells</td>\n",
       "      <td>SC_ovarian_cancer</td>\n",
       "    </tr>\n",
       "  </tbody>\n",
       "</table>\n",
       "</div>"
      ],
      "text/plain": [
       "                                               corr Algorithm     Cell type  \\\n",
       "(DeSide, B Cells, SC_ovarian_cancer)       0.528312    DeSide       B Cells   \n",
       "(DeSide, Cancer Cells, SC_ovarian_cancer)  0.574861    DeSide  Cancer Cells   \n",
       "\n",
       "                                                     dataset  \n",
       "(DeSide, B Cells, SC_ovarian_cancer)       SC_ovarian_cancer  \n",
       "(DeSide, Cancer Cells, SC_ovarian_cancer)  SC_ovarian_cancer  "
      ]
     },
     "execution_count": 27,
     "metadata": {},
     "output_type": "execute_result"
    }
   ],
   "source": [
    "algo_ct2ccc_df_ov = algo_ct2ccc_df_ds4.loc[(algo_ct2ccc_df_ds4['dataset'] == 'SC_ovarian_cancer') & (algo_ct2ccc_df_ds4['Cell type'] != 'T Cells'), :].copy()\n",
    "print(algo_ct2ccc_df_ov.shape)\n",
    "algo_ct2ccc_df_ov.head(2)"
   ]
  },
  {
   "cell_type": "code",
   "execution_count": 28,
   "id": "e2cf4db9-7254-4655-b315-6958c185b33c",
   "metadata": {},
   "outputs": [
    {
     "data": {
      "image/png": "[encoded data removed]",
      "text/plain": [
       "<Figure size 1050x450 with 2 Axes>"
      ]
     },
     "metadata": {},
     "output_type": "display_data"
    }
   ],
   "source": [
    "fig, ax1 = plt.subplots(1, 1, figsize=(3.5, 1.5))\n",
    "\n",
    "hue_order_ds3 = [i for i in algos if i in algo_ct2ccc_df_ov['Algorithm'].unique()]\n",
    "g1 = sns.barplot(algo_ct2ccc_df_ov, x=\"Cell type\", y=\"corr\", hue=\"Algorithm\", \n",
    "                 palette=[algo2color[algo] for algo in hue_order_ds3], ax=ax1, hue_order=hue_order_ds3)\n",
    "# g1legend = g1.legend()\n",
    "# sns.move_legend(g1, 'upper left',  bbox_to_anchor=(0, 1.12), ncol=5, title=None, frameon=False, fontsize=5.8, borderpad=0, handletextpad=0)\n",
    "g1.legend([], [], frameon=False)\n",
    "ax1.grid(axis='y')\n",
    "for _x in range(6):\n",
    "    ax1.axvline(_x - 0.5, color='lightgray', linewidth=0.5)\n",
    "g1.set_yticks([0, 0.2, 0.4, 0.6, 0.8, 1])\n",
    "ax1.set_xlabel('')\n",
    "ax1.set_ylabel('')\n",
    "ax1.tick_params(axis='x', labelrotation=15, labelsize=7)\n",
    "\n",
    "# add a big axis, hide frame\n",
    "fig.add_subplot(111, frameon=False)\n",
    "# hide tick and tick label of the big axis\\n\",\n",
    "plt.tick_params(labelcolor='none', which='both', top=False, bottom=False, left=False, right=False)\n",
    "plt.xlabel(\"\")\n",
    "plt.ylabel('Spearman Correlation ' + '\\n(' + f'SC_OV, 8' + ')', fontsize=7)\n",
    "\n",
    "plt.savefig(os.path.join(fig_dir, 'cell_type_wise_corr_spearman_ov.svg'), dpi=300)"
   ]
  },
  {
   "cell_type": "code",
   "execution_count": 29,
   "id": "d04734c8-7d73-4d8f-ab66-41e1b0fe03ea",
   "metadata": {},
   "outputs": [
    {
     "name": "stdout",
     "output_type": "stream",
     "text": [
      "(15, 4)\n"
     ]
    },
    {
     "data": {
      "text/html": [
       "<div>\n",
       "<style scoped>\n",
       "    .dataframe tbody tr th:only-of-type {\n",
       "        vertical-align: middle;\n",
       "    }\n",
       "\n",
       "    .dataframe tbody tr th {\n",
       "        vertical-align: top;\n",
       "    }\n",
       "\n",
       "    .dataframe thead th {\n",
       "        text-align: right;\n",
       "    }\n",
       "</style>\n",
       "<table border=\"1\" class=\"dataframe\">\n",
       "  <thead>\n",
       "    <tr style=\"text-align: right;\">\n",
       "      <th></th>\n",
       "      <th>corr</th>\n",
       "      <th>Algorithm</th>\n",
       "      <th>Cell type</th>\n",
       "      <th>dataset</th>\n",
       "    </tr>\n",
       "  </thead>\n",
       "  <tbody>\n",
       "    <tr>\n",
       "      <th>(DeSide, Cancer Cells, SC_glioblastoma)</th>\n",
       "      <td>0.75302</td>\n",
       "      <td>DeSide</td>\n",
       "      <td>Cancer Cells</td>\n",
       "      <td>SC_glioblastoma</td>\n",
       "    </tr>\n",
       "    <tr>\n",
       "      <th>(DeSide, Macrophages, SC_glioblastoma)</th>\n",
       "      <td>0.96286</td>\n",
       "      <td>DeSide</td>\n",
       "      <td>Macrophages</td>\n",
       "      <td>SC_glioblastoma</td>\n",
       "    </tr>\n",
       "  </tbody>\n",
       "</table>\n",
       "</div>"
      ],
      "text/plain": [
       "                                            corr Algorithm     Cell type  \\\n",
       "(DeSide, Cancer Cells, SC_glioblastoma)  0.75302    DeSide  Cancer Cells   \n",
       "(DeSide, Macrophages, SC_glioblastoma)   0.96286    DeSide   Macrophages   \n",
       "\n",
       "                                                 dataset  \n",
       "(DeSide, Cancer Cells, SC_glioblastoma)  SC_glioblastoma  \n",
       "(DeSide, Macrophages, SC_glioblastoma)   SC_glioblastoma  "
      ]
     },
     "execution_count": 29,
     "metadata": {},
     "output_type": "execute_result"
    }
   ],
   "source": [
    "algo_ct2ccc_df_gbm = algo_ct2ccc_df_ds4.loc[algo_ct2ccc_df_ds4['dataset'] == 'SC_glioblastoma', :].copy()\n",
    "print(algo_ct2ccc_df_gbm.shape)\n",
    "algo_ct2ccc_df_gbm.head(2)"
   ]
  },
  {
   "cell_type": "code",
   "execution_count": 30,
   "id": "e13579ce-6d08-4d86-8a62-6a2c3e6358f4",
   "metadata": {},
   "outputs": [
    {
     "data": {
      "image/png": "[encoded data removed]",
      "text/plain": [
       "<Figure size 600x450 with 2 Axes>"
      ]
     },
     "metadata": {},
     "output_type": "display_data"
    }
   ],
   "source": [
    "fig, ax1 = plt.subplots(1, 1, figsize=(2., 1.5))\n",
    "\n",
    "hue_order_ds3 = [i for i in algos if i in algo_ct2ccc_df_gbm['Algorithm'].unique()]\n",
    "g1 = sns.barplot(algo_ct2ccc_df_gbm, x=\"Cell type\", y=\"corr\", hue=\"Algorithm\", \n",
    "                 palette=[algo2color[algo] for algo in hue_order_ds3], ax=ax1, hue_order=hue_order_ds3)\n",
    "# g1legend = g1.legend()\n",
    "# sns.move_legend(g1, 'upper left',  bbox_to_anchor=(0, 1.12), ncol=5, title=None, frameon=False, fontsize=5.8, borderpad=0, handletextpad=0)\n",
    "g1.legend([], [], frameon=False)\n",
    "ax1.grid(axis='y')\n",
    "for _x in range(3):\n",
    "    ax1.axvline(_x - 0.5, color='lightgray', linewidth=0.5)\n",
    "g1.set_yticks([0, 0.2, 0.4, 0.6, 0.8, 1])\n",
    "ax1.set_xlabel('')\n",
    "ax1.set_ylabel('')\n",
    "ax1.tick_params(axis='x', labelrotation=15, labelsize=7)\n",
    "\n",
    "# add a big axis, hide frame\n",
    "fig.add_subplot(111, frameon=False)\n",
    "# hide tick and tick label of the big axis\\n\",\n",
    "plt.tick_params(labelcolor='none', which='both', top=False, bottom=False, left=False, right=False)\n",
    "plt.xlabel(\"\")\n",
    "plt.ylabel('Spearman Correlation ' + '\\n(' + f'SC_GBM, 28' + ')', fontsize=7)\n",
    "\n",
    "plt.savefig(os.path.join(fig_dir, 'cell_type_wise_corr_spearman_gbm.svg'), dpi=300)"
   ]
  },
  {
   "cell_type": "code",
   "execution_count": 31,
   "id": "a487d30f-5960-4b96-87ac-18ed41ccd8aa",
   "metadata": {},
   "outputs": [
    {
     "data": {
      "text/plain": [
       "array([[False],\n",
       "       [False],\n",
       "       [False],\n",
       "       [False],\n",
       "       [False],\n",
       "       [False],\n",
       "       [False],\n",
       "       [False],\n",
       "       [False],\n",
       "       [False],\n",
       "       [False],\n",
       "       [False],\n",
       "       [False],\n",
       "       [False],\n",
       "       [False],\n",
       "       [False],\n",
       "       [False],\n",
       "       [False],\n",
       "       [False],\n",
       "       [False],\n",
       "       [False],\n",
       "       [False],\n",
       "       [False],\n",
       "       [False],\n",
       "       [False],\n",
       "       [False],\n",
       "       [False],\n",
       "       [False],\n",
       "       [False],\n",
       "       [False],\n",
       "       [False],\n",
       "       [False],\n",
       "       [False],\n",
       "       [False],\n",
       "       [False],\n",
       "       [False],\n",
       "       [False],\n",
       "       [False],\n",
       "       [False],\n",
       "       [False],\n",
       "       [False],\n",
       "       [False],\n",
       "       [False],\n",
       "       [False],\n",
       "       [False],\n",
       "       [False],\n",
       "       [False],\n",
       "       [False],\n",
       "       [False],\n",
       "       [False],\n",
       "       [False],\n",
       "       [False],\n",
       "       [False],\n",
       "       [False],\n",
       "       [False],\n",
       "       [False],\n",
       "       [False],\n",
       "       [False]])"
      ]
     },
     "execution_count": 31,
     "metadata": {},
     "output_type": "execute_result"
    }
   ],
   "source": [
    "current_true.isna().values"
   ]
  },
  {
   "cell_type": "code",
   "execution_count": 32,
   "id": "6a217fc1-62cc-4b08-b734-3faa73ed3085",
   "metadata": {},
   "outputs": [
    {
     "data": {
      "text/html": [
       "<div>\n",
       "<style scoped>\n",
       "    .dataframe tbody tr th:only-of-type {\n",
       "        vertical-align: middle;\n",
       "    }\n",
       "\n",
       "    .dataframe tbody tr th {\n",
       "        vertical-align: top;\n",
       "    }\n",
       "\n",
       "    .dataframe thead th {\n",
       "        text-align: right;\n",
       "    }\n",
       "</style>\n",
       "<table border=\"1\" class=\"dataframe\">\n",
       "  <thead>\n",
       "    <tr style=\"text-align: right;\">\n",
       "      <th></th>\n",
       "      <th>T Cells</th>\n",
       "    </tr>\n",
       "  </thead>\n",
       "  <tbody>\n",
       "    <tr>\n",
       "      <th>BT1160</th>\n",
       "      <td>0.000000</td>\n",
       "    </tr>\n",
       "    <tr>\n",
       "      <th>BT1187</th>\n",
       "      <td>0.063927</td>\n",
       "    </tr>\n",
       "    <tr>\n",
       "      <th>BT749</th>\n",
       "      <td>0.000000</td>\n",
       "    </tr>\n",
       "    <tr>\n",
       "      <th>BT771</th>\n",
       "      <td>0.000000</td>\n",
       "    </tr>\n",
       "    <tr>\n",
       "      <th>BT786</th>\n",
       "      <td>0.000000</td>\n",
       "    </tr>\n",
       "    <tr>\n",
       "      <th>BT830</th>\n",
       "      <td>0.000000</td>\n",
       "    </tr>\n",
       "    <tr>\n",
       "      <th>BT85</th>\n",
       "      <td>0.000000</td>\n",
       "    </tr>\n",
       "    <tr>\n",
       "      <th>BT920</th>\n",
       "      <td>0.000000</td>\n",
       "    </tr>\n",
       "    <tr>\n",
       "      <th>MGH100</th>\n",
       "      <td>0.000000</td>\n",
       "    </tr>\n",
       "    <tr>\n",
       "      <th>MGH101</th>\n",
       "      <td>0.000000</td>\n",
       "    </tr>\n",
       "    <tr>\n",
       "      <th>MGH102</th>\n",
       "      <td>0.000000</td>\n",
       "    </tr>\n",
       "    <tr>\n",
       "      <th>MGH104</th>\n",
       "      <td>0.000000</td>\n",
       "    </tr>\n",
       "    <tr>\n",
       "      <th>MGH105</th>\n",
       "      <td>0.009464</td>\n",
       "    </tr>\n",
       "    <tr>\n",
       "      <th>MGH106</th>\n",
       "      <td>0.275000</td>\n",
       "    </tr>\n",
       "    <tr>\n",
       "      <th>MGH110</th>\n",
       "      <td>0.013928</td>\n",
       "    </tr>\n",
       "    <tr>\n",
       "      <th>MGH113</th>\n",
       "      <td>0.015385</td>\n",
       "    </tr>\n",
       "    <tr>\n",
       "      <th>MGH115</th>\n",
       "      <td>0.000000</td>\n",
       "    </tr>\n",
       "    <tr>\n",
       "      <th>MGH121</th>\n",
       "      <td>0.000000</td>\n",
       "    </tr>\n",
       "    <tr>\n",
       "      <th>MGH122</th>\n",
       "      <td>0.007326</td>\n",
       "    </tr>\n",
       "    <tr>\n",
       "      <th>MGH124</th>\n",
       "      <td>0.000000</td>\n",
       "    </tr>\n",
       "    <tr>\n",
       "      <th>MGH125</th>\n",
       "      <td>0.020050</td>\n",
       "    </tr>\n",
       "    <tr>\n",
       "      <th>MGH128</th>\n",
       "      <td>0.000000</td>\n",
       "    </tr>\n",
       "    <tr>\n",
       "      <th>MGH129</th>\n",
       "      <td>0.000000</td>\n",
       "    </tr>\n",
       "    <tr>\n",
       "      <th>MGH136</th>\n",
       "      <td>0.000000</td>\n",
       "    </tr>\n",
       "    <tr>\n",
       "      <th>MGH143</th>\n",
       "      <td>0.000000</td>\n",
       "    </tr>\n",
       "    <tr>\n",
       "      <th>MGH151</th>\n",
       "      <td>0.000000</td>\n",
       "    </tr>\n",
       "    <tr>\n",
       "      <th>MGH152</th>\n",
       "      <td>0.000000</td>\n",
       "    </tr>\n",
       "    <tr>\n",
       "      <th>MGH66</th>\n",
       "      <td>0.000000</td>\n",
       "    </tr>\n",
       "    <tr>\n",
       "      <th>lymph_node_20</th>\n",
       "      <td>0.000000</td>\n",
       "    </tr>\n",
       "    <tr>\n",
       "      <th>lymph_node_25</th>\n",
       "      <td>0.262069</td>\n",
       "    </tr>\n",
       "    <tr>\n",
       "      <th>lymph_node_26</th>\n",
       "      <td>0.003509</td>\n",
       "    </tr>\n",
       "    <tr>\n",
       "      <th>lymph_node_28</th>\n",
       "      <td>0.008230</td>\n",
       "    </tr>\n",
       "    <tr>\n",
       "      <th>lymph_node_5</th>\n",
       "      <td>0.000000</td>\n",
       "    </tr>\n",
       "    <tr>\n",
       "      <th>primary_10</th>\n",
       "      <td>0.034483</td>\n",
       "    </tr>\n",
       "    <tr>\n",
       "      <th>primary_12</th>\n",
       "      <td>0.965753</td>\n",
       "    </tr>\n",
       "    <tr>\n",
       "      <th>primary_13</th>\n",
       "      <td>0.134146</td>\n",
       "    </tr>\n",
       "    <tr>\n",
       "      <th>primary_16</th>\n",
       "      <td>0.521053</td>\n",
       "    </tr>\n",
       "    <tr>\n",
       "      <th>primary_17</th>\n",
       "      <td>0.365625</td>\n",
       "    </tr>\n",
       "    <tr>\n",
       "      <th>primary_18</th>\n",
       "      <td>0.463964</td>\n",
       "    </tr>\n",
       "    <tr>\n",
       "      <th>primary_20</th>\n",
       "      <td>0.000000</td>\n",
       "    </tr>\n",
       "    <tr>\n",
       "      <th>primary_22</th>\n",
       "      <td>0.000000</td>\n",
       "    </tr>\n",
       "    <tr>\n",
       "      <th>primary_23</th>\n",
       "      <td>1.000000</td>\n",
       "    </tr>\n",
       "    <tr>\n",
       "      <th>primary_24</th>\n",
       "      <td>0.008130</td>\n",
       "    </tr>\n",
       "    <tr>\n",
       "      <th>primary_25</th>\n",
       "      <td>0.219277</td>\n",
       "    </tr>\n",
       "    <tr>\n",
       "      <th>primary_26</th>\n",
       "      <td>0.023810</td>\n",
       "    </tr>\n",
       "    <tr>\n",
       "      <th>primary_28</th>\n",
       "      <td>0.000000</td>\n",
       "    </tr>\n",
       "    <tr>\n",
       "      <th>primary_5</th>\n",
       "      <td>0.133333</td>\n",
       "    </tr>\n",
       "    <tr>\n",
       "      <th>primary_6</th>\n",
       "      <td>0.000000</td>\n",
       "    </tr>\n",
       "    <tr>\n",
       "      <th>primary_7</th>\n",
       "      <td>0.000000</td>\n",
       "    </tr>\n",
       "    <tr>\n",
       "      <th>primary_8</th>\n",
       "      <td>0.198020</td>\n",
       "    </tr>\n",
       "    <tr>\n",
       "      <th>Sample_1976.0</th>\n",
       "      <td>0.002825</td>\n",
       "    </tr>\n",
       "    <tr>\n",
       "      <th>Sample_3250.0</th>\n",
       "      <td>0.000000</td>\n",
       "    </tr>\n",
       "    <tr>\n",
       "      <th>Sample_3250.1</th>\n",
       "      <td>0.000000</td>\n",
       "    </tr>\n",
       "    <tr>\n",
       "      <th>Sample_3266.0</th>\n",
       "      <td>0.014870</td>\n",
       "    </tr>\n",
       "    <tr>\n",
       "      <th>Sample_3281.0</th>\n",
       "      <td>0.000000</td>\n",
       "    </tr>\n",
       "    <tr>\n",
       "      <th>Sample_3288.0</th>\n",
       "      <td>0.000000</td>\n",
       "    </tr>\n",
       "    <tr>\n",
       "      <th>Sample_3288.1</th>\n",
       "      <td>0.000000</td>\n",
       "    </tr>\n",
       "    <tr>\n",
       "      <th>Sample_3290.0</th>\n",
       "      <td>0.003416</td>\n",
       "    </tr>\n",
       "  </tbody>\n",
       "</table>\n",
       "</div>"
      ],
      "text/plain": [
       "                T Cells\n",
       "BT1160         0.000000\n",
       "BT1187         0.063927\n",
       "BT749          0.000000\n",
       "BT771          0.000000\n",
       "BT786          0.000000\n",
       "BT830          0.000000\n",
       "BT85           0.000000\n",
       "BT920          0.000000\n",
       "MGH100         0.000000\n",
       "MGH101         0.000000\n",
       "MGH102         0.000000\n",
       "MGH104         0.000000\n",
       "MGH105         0.009464\n",
       "MGH106         0.275000\n",
       "MGH110         0.013928\n",
       "MGH113         0.015385\n",
       "MGH115         0.000000\n",
       "MGH121         0.000000\n",
       "MGH122         0.007326\n",
       "MGH124         0.000000\n",
       "MGH125         0.020050\n",
       "MGH128         0.000000\n",
       "MGH129         0.000000\n",
       "MGH136         0.000000\n",
       "MGH143         0.000000\n",
       "MGH151         0.000000\n",
       "MGH152         0.000000\n",
       "MGH66          0.000000\n",
       "lymph_node_20  0.000000\n",
       "lymph_node_25  0.262069\n",
       "lymph_node_26  0.003509\n",
       "lymph_node_28  0.008230\n",
       "lymph_node_5   0.000000\n",
       "primary_10     0.034483\n",
       "primary_12     0.965753\n",
       "primary_13     0.134146\n",
       "primary_16     0.521053\n",
       "primary_17     0.365625\n",
       "primary_18     0.463964\n",
       "primary_20     0.000000\n",
       "primary_22     0.000000\n",
       "primary_23     1.000000\n",
       "primary_24     0.008130\n",
       "primary_25     0.219277\n",
       "primary_26     0.023810\n",
       "primary_28     0.000000\n",
       "primary_5      0.133333\n",
       "primary_6      0.000000\n",
       "primary_7      0.000000\n",
       "primary_8      0.198020\n",
       "Sample_1976.0  0.002825\n",
       "Sample_3250.0  0.000000\n",
       "Sample_3250.1  0.000000\n",
       "Sample_3266.0  0.014870\n",
       "Sample_3281.0  0.000000\n",
       "Sample_3288.0  0.000000\n",
       "Sample_3288.1  0.000000\n",
       "Sample_3290.0  0.003416"
      ]
     },
     "execution_count": 32,
     "metadata": {},
     "output_type": "execute_result"
    }
   ],
   "source": [
    "current_true.loc[:, ~current_true.isna().values[0]]"
   ]
  },
  {
   "cell_type": "code",
   "execution_count": 33,
   "id": "f25ee274-0b0a-4b02-9639-d30c5054b91d",
   "metadata": {},
   "outputs": [
    {
     "name": "stdout",
     "output_type": "stream",
     "text": [
      "  >>  <<  \n",
      "(290, 4)\n",
      "                                       corr Algorithm sample_id  \\\n",
      "(DeSide, BT1160, SC_glioblastoma)  0.866025    DeSide    BT1160   \n",
      "(DeSide, BT1187, SC_glioblastoma)  0.500000    DeSide    BT1187   \n",
      "\n",
      "                                          datasets  \n",
      "(DeSide, BT1160, SC_glioblastoma)  SC_glioblastoma  \n",
      "(DeSide, BT1187, SC_glioblastoma)  SC_glioblastoma  \n"
     ]
    }
   ],
   "source": [
    "algo_ct2ccc = {}\n",
    "for (algo, sample_id, datasets), group in cell_prop_pred_new.groupby(['algo', 'sample_id', 'datasets']):\n",
    "    if sample_id in all_ground_truth.index:\n",
    "        group['cell_proportion_pred'] = group['cell_proportion']\n",
    "        # print(group)\n",
    "        if algo not in ['DeSide', 'Scaden_ascites']:\n",
    "            group['cell_proportion_pred'] = group['cell_proportion'] / 100\n",
    "        group = group.set_index('cell_type')\n",
    "        current_true = all_ground_truth.loc[[sample_id], :].copy()\n",
    "        # print(current_true)\n",
    "        current_true = current_true.loc[:, ~current_true.isna().values[0]].T.copy()\n",
    "        # print(current_true)\n",
    "        group_new = current_true.join(group, how='inner')\n",
    "        # print(algo, sample_id, datasets, group_new.shape)\n",
    "        # print(group_new)\n",
    "        algo_ct2ccc[(algo, sample_id, datasets)] = get_corr_spearman(group_new[sample_id], group_new['cell_proportion_pred'])\n",
    "algo_sample2corr = pd.DataFrame.from_dict(algo_ct2ccc, orient='index', columns=['corr'])\n",
    "# algo_ct2ccc_df = algo_ct2ccc_df.reset_index()\n",
    "algo_sample2corr['Algorithm'] = algo_sample2corr.index.map(lambda x: x[0].replace('_matrix_with_BC', ''))\n",
    "algo_sample2corr['sample_id'] = algo_sample2corr.index.map(lambda x: x[1])\n",
    "algo_sample2corr['datasets'] = algo_sample2corr.index.map(lambda x: x[2])\n",
    "print_df(algo_sample2corr)"
   ]
  },
  {
   "cell_type": "code",
   "execution_count": 34,
   "id": "b13ce9de-1a21-4121-813f-a61500bba081",
   "metadata": {},
   "outputs": [
    {
     "name": "stdout",
     "output_type": "stream",
     "text": [
      "  >>  <<  \n",
      "(290, 4)\n",
      "                                        ccc Algorithm sample_id  \\\n",
      "(DeSide, BT1160, SC_glioblastoma)  0.999890    DeSide    BT1160   \n",
      "(DeSide, BT1187, SC_glioblastoma)  0.891916    DeSide    BT1187   \n",
      "\n",
      "                                          datasets  \n",
      "(DeSide, BT1160, SC_glioblastoma)  SC_glioblastoma  \n",
      "(DeSide, BT1187, SC_glioblastoma)  SC_glioblastoma  \n"
     ]
    }
   ],
   "source": [
    "algo_ct2ccc = {}\n",
    "for (algo, sample_id, datasets), group in cell_prop_pred_new.groupby(['algo', 'sample_id', 'datasets']):\n",
    "    if sample_id in all_ground_truth.index:\n",
    "        group['cell_proportion_pred'] = group['cell_proportion']\n",
    "        # print(group)\n",
    "        if algo not in ['DeSide', 'Scaden_ascites']:\n",
    "            group['cell_proportion_pred'] = group['cell_proportion'] / 100\n",
    "        group = group.set_index('cell_type')\n",
    "        current_true = all_ground_truth.loc[[sample_id], :].copy()\n",
    "        # print(current_true)\n",
    "        current_true = current_true.loc[:, ~current_true.isna().values[0]].T.copy()\n",
    "        # print(current_true)\n",
    "        group_new = current_true.join(group, how='inner')\n",
    "        # print(algo, sample_id, datasets, group_new.shape)\n",
    "        # print(group_new)\n",
    "        algo_ct2ccc[(algo, sample_id, datasets)] = get_ccc(group_new[sample_id], group_new['cell_proportion_pred'])\n",
    "algo_sample2ccc = pd.DataFrame.from_dict(algo_ct2ccc, orient='index', columns=['ccc'])\n",
    "# algo_ct2ccc_df = algo_ct2ccc_df.reset_index()\n",
    "algo_sample2ccc['Algorithm'] = algo_sample2ccc.index.map(lambda x: x[0].replace('_matrix_with_BC', ''))\n",
    "algo_sample2ccc['sample_id'] = algo_sample2ccc.index.map(lambda x: x[1])\n",
    "algo_sample2ccc['datasets'] =  algo_sample2ccc.index.map(lambda x: x[2])\n",
    "print_df(algo_sample2ccc)"
   ]
  },
  {
   "cell_type": "code",
   "execution_count": 35,
   "id": "969aa83b-db33-4824-b4fb-34d09c8ad474",
   "metadata": {},
   "outputs": [
    {
     "data": {
      "text/plain": [
       "array(['SC_glioblastoma', 'SC_ovarian_cancer', 'SC_HNSCC'], dtype=object)"
      ]
     },
     "execution_count": 35,
     "metadata": {},
     "output_type": "execute_result"
    }
   ],
   "source": [
    "algo_sample2ccc['datasets'].unique()"
   ]
  },
  {
   "cell_type": "markdown",
   "id": "5bbe1c54-a928-4c05-b58f-b39cac2c212c",
   "metadata": {},
   "source": [
    "### Plot (corr)"
   ]
  },
  {
   "cell_type": "code",
   "execution_count": 36,
   "id": "4e7bba81-134f-4bdd-8cfb-8ee5e6d5568f",
   "metadata": {},
   "outputs": [
    {
     "data": {
      "text/plain": [
       "(array(['DeSide', 'EPIC_TRef', 'CIBERSORTx_HNSCC', 'Kassandra',\n",
       "        'Scaden_ascites'], dtype=object),\n",
       " array(['SC_GBM', 'SC_OV', 'SC_HNSC'], dtype=object))"
      ]
     },
     "execution_count": 36,
     "metadata": {},
     "output_type": "execute_result"
    }
   ],
   "source": [
    "algo_name_mapping = {'HNSC_CIBERSORTX': 'CIBERSORTx_HNSCC'}\n",
    "dataset_mapping = {'SC_glioblastoma': 'SC_GBM', 'SC_ovarian_cancer': 'SC_OV', 'SC_HNSCC': 'SC_HNSC'}\n",
    "algo_sample2corr['Algorithm'] = algo_sample2corr['Algorithm'].map(lambda x: algo_name_mapping.get(x, x))\n",
    "algo_sample2corr['datasets'] = algo_sample2corr['datasets'].map(lambda x: dataset_mapping.get(x, x))\n",
    "algo_sample2corr['Algorithm'].unique(), algo_sample2corr['datasets'].unique()"
   ]
  },
  {
   "cell_type": "code",
   "execution_count": 37,
   "id": "14ceceb2-345b-41ae-8847-b8115d0b2532",
   "metadata": {},
   "outputs": [
    {
     "data": {
      "text/html": [
       "<svg  width=\"275\" height=\"55\"><rect x=\"0\" y=\"0\" width=\"55\" height=\"55\" style=\"fill:#1f78b4;stroke-width:2;stroke:rgb(255,255,255)\"/><rect x=\"55\" y=\"0\" width=\"55\" height=\"55\" style=\"fill:#b15928;stroke-width:2;stroke:rgb(255,255,255)\"/><rect x=\"110\" y=\"0\" width=\"55\" height=\"55\" style=\"fill:#ff7f00;stroke-width:2;stroke:rgb(255,255,255)\"/><rect x=\"165\" y=\"0\" width=\"55\" height=\"55\" style=\"fill:#33a02c;stroke-width:2;stroke:rgb(255,255,255)\"/><rect x=\"220\" y=\"0\" width=\"55\" height=\"55\" style=\"fill:#e31a1c;stroke-width:2;stroke:rgb(255,255,255)\"/></svg>"
      ],
      "text/plain": [
       "[(0.12156862745098039, 0.47058823529411764, 0.7058823529411765),\n",
       " (0.6941176470588235, 0.34901960784313724, 0.1568627450980392),\n",
       " (1.0, 0.4980392156862745, 0.0),\n",
       " (0.2, 0.6274509803921569, 0.17254901960784313),\n",
       " (0.8901960784313725, 0.10196078431372549, 0.10980392156862745)]"
      ]
     },
     "execution_count": 37,
     "metadata": {},
     "output_type": "execute_result"
    }
   ],
   "source": [
    "selected_colors = [sns.color_palette(\"Paired\")[i] for i in [1, 11, 7, 3, 5]]  #  [1, 0, 3, 2, 5, 4, 7, 11, 9]\n",
    "sns.color_palette(selected_colors)"
   ]
  },
  {
   "cell_type": "code",
   "execution_count": 38,
   "id": "34d40244-8ea6-4a49-a7c3-59659f18af35",
   "metadata": {},
   "outputs": [],
   "source": [
    "# algos = ['DeSide', 'Kassandra', 'ABIS', 'fardeep_absolute', \n",
    "#          'EPIC_BRef', 'EPIC_TRef',\n",
    "#          'HNSC_CIBERSORTX', 'LM22_CIBERSORTX', \n",
    "#          'quantiseq', 'quantiseq_tumor']\n",
    "algos = ['DeSide', 'Kassandra', 'EPIC_TRef',\n",
    "         'CIBERSORTx_HNSCC', 'Scaden_ascites']\n",
    "algo2color = {algos[i]: selected_colors[i] for i in range(5)}"
   ]
  },
  {
   "cell_type": "code",
   "execution_count": 39,
   "id": "9da8e140-e3e3-4d95-ab59-18c364526eeb",
   "metadata": {},
   "outputs": [
    {
     "data": {
      "text/html": [
       "<div>\n",
       "<style scoped>\n",
       "    .dataframe tbody tr th:only-of-type {\n",
       "        vertical-align: middle;\n",
       "    }\n",
       "\n",
       "    .dataframe tbody tr th {\n",
       "        vertical-align: top;\n",
       "    }\n",
       "\n",
       "    .dataframe thead th {\n",
       "        text-align: right;\n",
       "    }\n",
       "</style>\n",
       "<table border=\"1\" class=\"dataframe\">\n",
       "  <thead>\n",
       "    <tr style=\"text-align: right;\">\n",
       "      <th></th>\n",
       "      <th>corr</th>\n",
       "      <th>Algorithm</th>\n",
       "      <th>sample_id</th>\n",
       "      <th>datasets</th>\n",
       "    </tr>\n",
       "  </thead>\n",
       "  <tbody>\n",
       "    <tr>\n",
       "      <th>(DeSide, BT1160, SC_glioblastoma)</th>\n",
       "      <td>0.866025</td>\n",
       "      <td>DeSide</td>\n",
       "      <td>BT1160</td>\n",
       "      <td>SC_GBM</td>\n",
       "    </tr>\n",
       "    <tr>\n",
       "      <th>(DeSide, BT1187, SC_glioblastoma)</th>\n",
       "      <td>0.500000</td>\n",
       "      <td>DeSide</td>\n",
       "      <td>BT1187</td>\n",
       "      <td>SC_GBM</td>\n",
       "    </tr>\n",
       "  </tbody>\n",
       "</table>\n",
       "</div>"
      ],
      "text/plain": [
       "                                       corr Algorithm sample_id datasets\n",
       "(DeSide, BT1160, SC_glioblastoma)  0.866025    DeSide    BT1160   SC_GBM\n",
       "(DeSide, BT1187, SC_glioblastoma)  0.500000    DeSide    BT1187   SC_GBM"
      ]
     },
     "execution_count": 39,
     "metadata": {},
     "output_type": "execute_result"
    }
   ],
   "source": [
    "algo_sample2corr.head(2)"
   ]
  },
  {
   "cell_type": "code",
   "execution_count": 40,
   "id": "5536cdb8-6471-4daa-910d-651bb9b9dcef",
   "metadata": {},
   "outputs": [
    {
     "data": {
      "text/html": [
       "<div>\n",
       "<style scoped>\n",
       "    .dataframe tbody tr th:only-of-type {\n",
       "        vertical-align: middle;\n",
       "    }\n",
       "\n",
       "    .dataframe tbody tr th {\n",
       "        vertical-align: top;\n",
       "    }\n",
       "\n",
       "    .dataframe thead th {\n",
       "        text-align: right;\n",
       "    }\n",
       "</style>\n",
       "<table border=\"1\" class=\"dataframe\">\n",
       "  <thead>\n",
       "    <tr style=\"text-align: right;\">\n",
       "      <th></th>\n",
       "      <th></th>\n",
       "      <th>corr</th>\n",
       "    </tr>\n",
       "    <tr>\n",
       "      <th>datasets</th>\n",
       "      <th>Algorithm</th>\n",
       "      <th></th>\n",
       "    </tr>\n",
       "  </thead>\n",
       "  <tbody>\n",
       "    <tr>\n",
       "      <th rowspan=\"5\" valign=\"top\">SC_GBM</th>\n",
       "      <th>CIBERSORTx_HNSCC</th>\n",
       "      <td>0.866369</td>\n",
       "    </tr>\n",
       "    <tr>\n",
       "      <th>DeSide</th>\n",
       "      <td>0.945146</td>\n",
       "    </tr>\n",
       "    <tr>\n",
       "      <th>EPIC_TRef</th>\n",
       "      <td>0.652083</td>\n",
       "    </tr>\n",
       "    <tr>\n",
       "      <th>Kassandra</th>\n",
       "      <td>0.919940</td>\n",
       "    </tr>\n",
       "    <tr>\n",
       "      <th>Scaden_ascites</th>\n",
       "      <td>0.500939</td>\n",
       "    </tr>\n",
       "    <tr>\n",
       "      <th rowspan=\"5\" valign=\"top\">SC_HNSC</th>\n",
       "      <th>CIBERSORTx_HNSCC</th>\n",
       "      <td>0.739969</td>\n",
       "    </tr>\n",
       "    <tr>\n",
       "      <th>DeSide</th>\n",
       "      <td>0.854229</td>\n",
       "    </tr>\n",
       "    <tr>\n",
       "      <th>EPIC_TRef</th>\n",
       "      <td>0.632137</td>\n",
       "    </tr>\n",
       "    <tr>\n",
       "      <th>Kassandra</th>\n",
       "      <td>0.827246</td>\n",
       "    </tr>\n",
       "    <tr>\n",
       "      <th>Scaden_ascites</th>\n",
       "      <td>0.799072</td>\n",
       "    </tr>\n",
       "    <tr>\n",
       "      <th rowspan=\"5\" valign=\"top\">SC_OV</th>\n",
       "      <th>CIBERSORTx_HNSCC</th>\n",
       "      <td>0.500283</td>\n",
       "    </tr>\n",
       "    <tr>\n",
       "      <th>DeSide</th>\n",
       "      <td>0.776999</td>\n",
       "    </tr>\n",
       "    <tr>\n",
       "      <th>EPIC_TRef</th>\n",
       "      <td>0.539911</td>\n",
       "    </tr>\n",
       "    <tr>\n",
       "      <th>Kassandra</th>\n",
       "      <td>0.562143</td>\n",
       "    </tr>\n",
       "    <tr>\n",
       "      <th>Scaden_ascites</th>\n",
       "      <td>0.542219</td>\n",
       "    </tr>\n",
       "  </tbody>\n",
       "</table>\n",
       "</div>"
      ],
      "text/plain": [
       "                               corr\n",
       "datasets Algorithm                 \n",
       "SC_GBM   CIBERSORTx_HNSCC  0.866369\n",
       "         DeSide            0.945146\n",
       "         EPIC_TRef         0.652083\n",
       "         Kassandra         0.919940\n",
       "         Scaden_ascites    0.500939\n",
       "SC_HNSC  CIBERSORTx_HNSCC  0.739969\n",
       "         DeSide            0.854229\n",
       "         EPIC_TRef         0.632137\n",
       "         Kassandra         0.827246\n",
       "         Scaden_ascites    0.799072\n",
       "SC_OV    CIBERSORTx_HNSCC  0.500283\n",
       "         DeSide            0.776999\n",
       "         EPIC_TRef         0.539911\n",
       "         Kassandra         0.562143\n",
       "         Scaden_ascites    0.542219"
      ]
     },
     "execution_count": 40,
     "metadata": {},
     "output_type": "execute_result"
    }
   ],
   "source": [
    "algo_sample2corr.loc[:, ['corr', 'datasets', 'Algorithm']].groupby(['datasets', 'Algorithm']).mean()"
   ]
  },
  {
   "cell_type": "code",
   "execution_count": 41,
   "id": "70ffcd9c-1650-4800-99a6-2356dc74a407",
   "metadata": {},
   "outputs": [
    {
     "data": {
      "text/html": [
       "<div>\n",
       "<style scoped>\n",
       "    .dataframe tbody tr th:only-of-type {\n",
       "        vertical-align: middle;\n",
       "    }\n",
       "\n",
       "    .dataframe tbody tr th {\n",
       "        vertical-align: top;\n",
       "    }\n",
       "\n",
       "    .dataframe thead th {\n",
       "        text-align: right;\n",
       "    }\n",
       "</style>\n",
       "<table border=\"1\" class=\"dataframe\">\n",
       "  <thead>\n",
       "    <tr style=\"text-align: right;\">\n",
       "      <th></th>\n",
       "      <th></th>\n",
       "      <th>corr</th>\n",
       "    </tr>\n",
       "    <tr>\n",
       "      <th>datasets</th>\n",
       "      <th>Algorithm</th>\n",
       "      <th></th>\n",
       "    </tr>\n",
       "  </thead>\n",
       "  <tbody>\n",
       "    <tr>\n",
       "      <th rowspan=\"5\" valign=\"top\">SC_GBM</th>\n",
       "      <th>CIBERSORTx_HNSCC</th>\n",
       "      <td>0.287604</td>\n",
       "    </tr>\n",
       "    <tr>\n",
       "      <th>DeSide</th>\n",
       "      <td>0.134377</td>\n",
       "    </tr>\n",
       "    <tr>\n",
       "      <th>EPIC_TRef</th>\n",
       "      <td>0.377322</td>\n",
       "    </tr>\n",
       "    <tr>\n",
       "      <th>Kassandra</th>\n",
       "      <td>0.106087</td>\n",
       "    </tr>\n",
       "    <tr>\n",
       "      <th>Scaden_ascites</th>\n",
       "      <td>0.489660</td>\n",
       "    </tr>\n",
       "    <tr>\n",
       "      <th rowspan=\"5\" valign=\"top\">SC_HNSC</th>\n",
       "      <th>CIBERSORTx_HNSCC</th>\n",
       "      <td>0.167093</td>\n",
       "    </tr>\n",
       "    <tr>\n",
       "      <th>DeSide</th>\n",
       "      <td>0.124314</td>\n",
       "    </tr>\n",
       "    <tr>\n",
       "      <th>EPIC_TRef</th>\n",
       "      <td>0.275097</td>\n",
       "    </tr>\n",
       "    <tr>\n",
       "      <th>Kassandra</th>\n",
       "      <td>0.171717</td>\n",
       "    </tr>\n",
       "    <tr>\n",
       "      <th>Scaden_ascites</th>\n",
       "      <td>0.169677</td>\n",
       "    </tr>\n",
       "    <tr>\n",
       "      <th rowspan=\"5\" valign=\"top\">SC_OV</th>\n",
       "      <th>CIBERSORTx_HNSCC</th>\n",
       "      <td>0.329906</td>\n",
       "    </tr>\n",
       "    <tr>\n",
       "      <th>DeSide</th>\n",
       "      <td>0.224984</td>\n",
       "    </tr>\n",
       "    <tr>\n",
       "      <th>EPIC_TRef</th>\n",
       "      <td>0.313638</td>\n",
       "    </tr>\n",
       "    <tr>\n",
       "      <th>Kassandra</th>\n",
       "      <td>0.382366</td>\n",
       "    </tr>\n",
       "    <tr>\n",
       "      <th>Scaden_ascites</th>\n",
       "      <td>0.342187</td>\n",
       "    </tr>\n",
       "  </tbody>\n",
       "</table>\n",
       "</div>"
      ],
      "text/plain": [
       "                               corr\n",
       "datasets Algorithm                 \n",
       "SC_GBM   CIBERSORTx_HNSCC  0.287604\n",
       "         DeSide            0.134377\n",
       "         EPIC_TRef         0.377322\n",
       "         Kassandra         0.106087\n",
       "         Scaden_ascites    0.489660\n",
       "SC_HNSC  CIBERSORTx_HNSCC  0.167093\n",
       "         DeSide            0.124314\n",
       "         EPIC_TRef         0.275097\n",
       "         Kassandra         0.171717\n",
       "         Scaden_ascites    0.169677\n",
       "SC_OV    CIBERSORTx_HNSCC  0.329906\n",
       "         DeSide            0.224984\n",
       "         EPIC_TRef         0.313638\n",
       "         Kassandra         0.382366\n",
       "         Scaden_ascites    0.342187"
      ]
     },
     "execution_count": 41,
     "metadata": {},
     "output_type": "execute_result"
    }
   ],
   "source": [
    "algo_sample2corr.loc[:, ['corr', 'datasets', 'Algorithm']].groupby(['datasets', 'Algorithm']).std()"
   ]
  },
  {
   "cell_type": "code",
   "execution_count": 42,
   "id": "065d4414-a562-4873-b9c1-a9f0e125365f",
   "metadata": {},
   "outputs": [
    {
     "data": {
      "image/png": "[encoded data removed]",
      "text/plain": [
       "<Figure size 600x450 with 2 Axes>"
      ]
     },
     "metadata": {},
     "output_type": "display_data"
    }
   ],
   "source": [
    "fig, ax1 = plt.subplots(1, 1, figsize=(2, 1.5))\n",
    "\n",
    "hue_order_ds3 = [i for i in algos if i in algo_ct2ccc_df_ds4['Algorithm'].unique()]\n",
    "g1 = sns.barplot(algo_sample2corr, x=\"datasets\", y=\"corr\", hue=\"Algorithm\", errorbar='se', capsize=0.03, errwidth=0.6,\n",
    "                 palette=[algo2color[algo] for algo in hue_order_ds3], ax=ax1, hue_order=hue_order_ds3)\n",
    "# g1legend = g1.legend()\n",
    "# sns.move_legend(g1, 'upper left',  bbox_to_anchor=(0, 1.12), ncol=5, title=None, frameon=False, fontsize=5.8, borderpad=0, handletextpad=0)\n",
    "g1.legend([],[], frameon=False)\n",
    "ax1.grid(axis='y')\n",
    "for _x in range(3):\n",
    "    ax1.axvline(_x - 0.5, color='lightgray', linewidth=0.5)\n",
    "g1.set_yticks([0, 0.2, 0.4, 0.6, 0.8, 1])\n",
    "ax1.set_xlabel('')\n",
    "ax1.set_ylabel('')\n",
    "ax1.tick_params(axis='x', labelrotation=0, labelsize=7)\n",
    "\n",
    "# add a big axis, hide frame\n",
    "fig.add_subplot(111, frameon=False)\n",
    "# hide tick and tick label of the big axis\\n\",\n",
    "plt.tick_params(labelcolor='none', which='both', top=False, bottom=False, left=False, right=False)\n",
    "plt.xlabel(\"\")\n",
    "plt.ylabel('Spearman Correlation ' + '\\n(' + f'3 SC datasets' + ')', fontsize=7)\n",
    "\n",
    "plt.savefig(os.path.join(fig_dir, '3ds_sample_wise_corr_spearman.svg'), dpi=300)"
   ]
  },
  {
   "cell_type": "markdown",
   "id": "826a9328-3c36-46ce-81a6-2f094f0e9c11",
   "metadata": {},
   "source": [
    "### Plot (ccc)"
   ]
  },
  {
   "cell_type": "code",
   "execution_count": 43,
   "id": "f67ce3ff-cfe0-4ac9-9705-ea2025d12b08",
   "metadata": {},
   "outputs": [
    {
     "data": {
      "text/plain": [
       "(array(['DeSide', 'EPIC_TRef', 'CIBERSORTx_HNSCC', 'Kassandra',\n",
       "        'Scaden_ascites'], dtype=object),\n",
       " array(['SC_GBM', 'SC_OV', 'SC_HNSC'], dtype=object))"
      ]
     },
     "execution_count": 43,
     "metadata": {},
     "output_type": "execute_result"
    }
   ],
   "source": [
    "algo_name_mapping = {'HNSC_CIBERSORTX': 'CIBERSORTx_HNSCC'}\n",
    "dataset_mapping = {'SC_glioblastoma': 'SC_GBM', 'SC_ovarian_cancer': 'SC_OV', 'SC_HNSCC': 'SC_HNSC'}\n",
    "algo_sample2ccc['Algorithm'] = algo_sample2ccc['Algorithm'].map(lambda x: algo_name_mapping.get(x, x))\n",
    "algo_sample2ccc['datasets'] =  algo_sample2ccc['datasets'].map(lambda x: dataset_mapping.get(x, x))\n",
    "algo_sample2ccc['Algorithm'].unique(), algo_sample2ccc['datasets'].unique()"
   ]
  },
  {
   "cell_type": "code",
   "execution_count": 44,
   "id": "af6db0c1-4c90-40b1-93fe-4b47efd6d8cb",
   "metadata": {},
   "outputs": [
    {
     "data": {
      "text/html": [
       "<div>\n",
       "<style scoped>\n",
       "    .dataframe tbody tr th:only-of-type {\n",
       "        vertical-align: middle;\n",
       "    }\n",
       "\n",
       "    .dataframe tbody tr th {\n",
       "        vertical-align: top;\n",
       "    }\n",
       "\n",
       "    .dataframe thead th {\n",
       "        text-align: right;\n",
       "    }\n",
       "</style>\n",
       "<table border=\"1\" class=\"dataframe\">\n",
       "  <thead>\n",
       "    <tr style=\"text-align: right;\">\n",
       "      <th></th>\n",
       "      <th>ccc</th>\n",
       "      <th>Algorithm</th>\n",
       "      <th>sample_id</th>\n",
       "      <th>datasets</th>\n",
       "    </tr>\n",
       "  </thead>\n",
       "  <tbody>\n",
       "    <tr>\n",
       "      <th>(DeSide, BT1160, SC_glioblastoma)</th>\n",
       "      <td>0.999890</td>\n",
       "      <td>DeSide</td>\n",
       "      <td>BT1160</td>\n",
       "      <td>SC_GBM</td>\n",
       "    </tr>\n",
       "    <tr>\n",
       "      <th>(DeSide, BT1187, SC_glioblastoma)</th>\n",
       "      <td>0.891916</td>\n",
       "      <td>DeSide</td>\n",
       "      <td>BT1187</td>\n",
       "      <td>SC_GBM</td>\n",
       "    </tr>\n",
       "  </tbody>\n",
       "</table>\n",
       "</div>"
      ],
      "text/plain": [
       "                                        ccc Algorithm sample_id datasets\n",
       "(DeSide, BT1160, SC_glioblastoma)  0.999890    DeSide    BT1160   SC_GBM\n",
       "(DeSide, BT1187, SC_glioblastoma)  0.891916    DeSide    BT1187   SC_GBM"
      ]
     },
     "execution_count": 44,
     "metadata": {},
     "output_type": "execute_result"
    }
   ],
   "source": [
    "algo_sample2ccc.head(2)"
   ]
  },
  {
   "cell_type": "code",
   "execution_count": 45,
   "id": "7bb78950-4076-42a7-ae10-668ae2ebb3d2",
   "metadata": {},
   "outputs": [
    {
     "data": {
      "text/html": [
       "<div>\n",
       "<style scoped>\n",
       "    .dataframe tbody tr th:only-of-type {\n",
       "        vertical-align: middle;\n",
       "    }\n",
       "\n",
       "    .dataframe tbody tr th {\n",
       "        vertical-align: top;\n",
       "    }\n",
       "\n",
       "    .dataframe thead th {\n",
       "        text-align: right;\n",
       "    }\n",
       "</style>\n",
       "<table border=\"1\" class=\"dataframe\">\n",
       "  <thead>\n",
       "    <tr style=\"text-align: right;\">\n",
       "      <th></th>\n",
       "      <th></th>\n",
       "      <th>ccc</th>\n",
       "    </tr>\n",
       "    <tr>\n",
       "      <th>datasets</th>\n",
       "      <th>Algorithm</th>\n",
       "      <th></th>\n",
       "    </tr>\n",
       "  </thead>\n",
       "  <tbody>\n",
       "    <tr>\n",
       "      <th rowspan=\"5\" valign=\"top\">SC_GBM</th>\n",
       "      <th>CIBERSORTx_HNSCC</th>\n",
       "      <td>0.921202</td>\n",
       "    </tr>\n",
       "    <tr>\n",
       "      <th>DeSide</th>\n",
       "      <td>0.992034</td>\n",
       "    </tr>\n",
       "    <tr>\n",
       "      <th>EPIC_TRef</th>\n",
       "      <td>0.903405</td>\n",
       "    </tr>\n",
       "    <tr>\n",
       "      <th>Kassandra</th>\n",
       "      <td>0.980876</td>\n",
       "    </tr>\n",
       "    <tr>\n",
       "      <th>Scaden_ascites</th>\n",
       "      <td>0.193984</td>\n",
       "    </tr>\n",
       "    <tr>\n",
       "      <th rowspan=\"5\" valign=\"top\">SC_HNSC</th>\n",
       "      <th>CIBERSORTx_HNSCC</th>\n",
       "      <td>0.435563</td>\n",
       "    </tr>\n",
       "    <tr>\n",
       "      <th>DeSide</th>\n",
       "      <td>0.904496</td>\n",
       "    </tr>\n",
       "    <tr>\n",
       "      <th>EPIC_TRef</th>\n",
       "      <td>0.728368</td>\n",
       "    </tr>\n",
       "    <tr>\n",
       "      <th>Kassandra</th>\n",
       "      <td>0.735359</td>\n",
       "    </tr>\n",
       "    <tr>\n",
       "      <th>Scaden_ascites</th>\n",
       "      <td>0.727830</td>\n",
       "    </tr>\n",
       "    <tr>\n",
       "      <th rowspan=\"5\" valign=\"top\">SC_OV</th>\n",
       "      <th>CIBERSORTx_HNSCC</th>\n",
       "      <td>0.147812</td>\n",
       "    </tr>\n",
       "    <tr>\n",
       "      <th>DeSide</th>\n",
       "      <td>0.894618</td>\n",
       "    </tr>\n",
       "    <tr>\n",
       "      <th>EPIC_TRef</th>\n",
       "      <td>0.493373</td>\n",
       "    </tr>\n",
       "    <tr>\n",
       "      <th>Kassandra</th>\n",
       "      <td>0.510041</td>\n",
       "    </tr>\n",
       "    <tr>\n",
       "      <th>Scaden_ascites</th>\n",
       "      <td>0.868018</td>\n",
       "    </tr>\n",
       "  </tbody>\n",
       "</table>\n",
       "</div>"
      ],
      "text/plain": [
       "                                ccc\n",
       "datasets Algorithm                 \n",
       "SC_GBM   CIBERSORTx_HNSCC  0.921202\n",
       "         DeSide            0.992034\n",
       "         EPIC_TRef         0.903405\n",
       "         Kassandra         0.980876\n",
       "         Scaden_ascites    0.193984\n",
       "SC_HNSC  CIBERSORTx_HNSCC  0.435563\n",
       "         DeSide            0.904496\n",
       "         EPIC_TRef         0.728368\n",
       "         Kassandra         0.735359\n",
       "         Scaden_ascites    0.727830\n",
       "SC_OV    CIBERSORTx_HNSCC  0.147812\n",
       "         DeSide            0.894618\n",
       "         EPIC_TRef         0.493373\n",
       "         Kassandra         0.510041\n",
       "         Scaden_ascites    0.868018"
      ]
     },
     "execution_count": 45,
     "metadata": {},
     "output_type": "execute_result"
    }
   ],
   "source": [
    "algo_sample2ccc.loc[:, ['ccc', 'datasets', 'Algorithm']].groupby(['datasets', 'Algorithm']).mean()"
   ]
  },
  {
   "cell_type": "code",
   "execution_count": 46,
   "id": "2b649365-a3de-414b-9ac6-6c08fa5a9c65",
   "metadata": {},
   "outputs": [
    {
     "data": {
      "text/html": [
       "<div>\n",
       "<style scoped>\n",
       "    .dataframe tbody tr th:only-of-type {\n",
       "        vertical-align: middle;\n",
       "    }\n",
       "\n",
       "    .dataframe tbody tr th {\n",
       "        vertical-align: top;\n",
       "    }\n",
       "\n",
       "    .dataframe thead th {\n",
       "        text-align: right;\n",
       "    }\n",
       "</style>\n",
       "<table border=\"1\" class=\"dataframe\">\n",
       "  <thead>\n",
       "    <tr style=\"text-align: right;\">\n",
       "      <th></th>\n",
       "      <th></th>\n",
       "      <th>ccc</th>\n",
       "    </tr>\n",
       "    <tr>\n",
       "      <th>datasets</th>\n",
       "      <th>Algorithm</th>\n",
       "      <th></th>\n",
       "    </tr>\n",
       "  </thead>\n",
       "  <tbody>\n",
       "    <tr>\n",
       "      <th rowspan=\"5\" valign=\"top\">SC_GBM</th>\n",
       "      <th>CIBERSORTx_HNSCC</th>\n",
       "      <td>0.269291</td>\n",
       "    </tr>\n",
       "    <tr>\n",
       "      <th>DeSide</th>\n",
       "      <td>0.022999</td>\n",
       "    </tr>\n",
       "    <tr>\n",
       "      <th>EPIC_TRef</th>\n",
       "      <td>0.256057</td>\n",
       "    </tr>\n",
       "    <tr>\n",
       "      <th>Kassandra</th>\n",
       "      <td>0.059856</td>\n",
       "    </tr>\n",
       "    <tr>\n",
       "      <th>Scaden_ascites</th>\n",
       "      <td>0.235319</td>\n",
       "    </tr>\n",
       "    <tr>\n",
       "      <th rowspan=\"5\" valign=\"top\">SC_HNSC</th>\n",
       "      <th>CIBERSORTx_HNSCC</th>\n",
       "      <td>0.422707</td>\n",
       "    </tr>\n",
       "    <tr>\n",
       "      <th>DeSide</th>\n",
       "      <td>0.098904</td>\n",
       "    </tr>\n",
       "    <tr>\n",
       "      <th>EPIC_TRef</th>\n",
       "      <td>0.271868</td>\n",
       "    </tr>\n",
       "    <tr>\n",
       "      <th>Kassandra</th>\n",
       "      <td>0.294522</td>\n",
       "    </tr>\n",
       "    <tr>\n",
       "      <th>Scaden_ascites</th>\n",
       "      <td>0.201213</td>\n",
       "    </tr>\n",
       "    <tr>\n",
       "      <th rowspan=\"5\" valign=\"top\">SC_OV</th>\n",
       "      <th>CIBERSORTx_HNSCC</th>\n",
       "      <td>0.408696</td>\n",
       "    </tr>\n",
       "    <tr>\n",
       "      <th>DeSide</th>\n",
       "      <td>0.061167</td>\n",
       "    </tr>\n",
       "    <tr>\n",
       "      <th>EPIC_TRef</th>\n",
       "      <td>0.336676</td>\n",
       "    </tr>\n",
       "    <tr>\n",
       "      <th>Kassandra</th>\n",
       "      <td>0.299866</td>\n",
       "    </tr>\n",
       "    <tr>\n",
       "      <th>Scaden_ascites</th>\n",
       "      <td>0.201636</td>\n",
       "    </tr>\n",
       "  </tbody>\n",
       "</table>\n",
       "</div>"
      ],
      "text/plain": [
       "                                ccc\n",
       "datasets Algorithm                 \n",
       "SC_GBM   CIBERSORTx_HNSCC  0.269291\n",
       "         DeSide            0.022999\n",
       "         EPIC_TRef         0.256057\n",
       "         Kassandra         0.059856\n",
       "         Scaden_ascites    0.235319\n",
       "SC_HNSC  CIBERSORTx_HNSCC  0.422707\n",
       "         DeSide            0.098904\n",
       "         EPIC_TRef         0.271868\n",
       "         Kassandra         0.294522\n",
       "         Scaden_ascites    0.201213\n",
       "SC_OV    CIBERSORTx_HNSCC  0.408696\n",
       "         DeSide            0.061167\n",
       "         EPIC_TRef         0.336676\n",
       "         Kassandra         0.299866\n",
       "         Scaden_ascites    0.201636"
      ]
     },
     "execution_count": 46,
     "metadata": {},
     "output_type": "execute_result"
    }
   ],
   "source": [
    "algo_sample2ccc.loc[:, ['ccc', 'datasets', 'Algorithm']].groupby(['datasets', 'Algorithm']).std()"
   ]
  },
  {
   "cell_type": "code",
   "execution_count": 47,
   "id": "bcfdc724-766c-4ea0-b5f5-d8c0aab1e6aa",
   "metadata": {},
   "outputs": [
    {
     "data": {
      "image/png": "[encoded data removed]",
      "text/plain": [
       "<Figure size 600x450 with 2 Axes>"
      ]
     },
     "metadata": {},
     "output_type": "display_data"
    }
   ],
   "source": [
    "fig, ax1 = plt.subplots(1, 1, figsize=(2, 1.5))\n",
    "\n",
    "hue_order_ds3 = [i for i in algos if i in algo_ct2ccc_df_ds4['Algorithm'].unique()]\n",
    "g1 = sns.barplot(algo_sample2ccc, x=\"datasets\", y=\"ccc\", hue=\"Algorithm\", errorbar='se', capsize=0.03, errwidth=0.6,\n",
    "                 palette=[algo2color[algo] for algo in hue_order_ds3], ax=ax1, hue_order=hue_order_ds3)\n",
    "# g1legend = g1.legend()\n",
    "# sns.move_legend(g1, 'upper left',  bbox_to_anchor=(0, 1.12), ncol=5, title=None, frameon=False, fontsize=5.8, borderpad=0, handletextpad=0)\n",
    "g1.legend([],[], frameon=False)\n",
    "ax1.grid(axis='y')\n",
    "for _x in range(3):\n",
    "    ax1.axvline(_x - 0.5, color='lightgray', linewidth=0.5)\n",
    "g1.set_yticks([0, 0.2, 0.4, 0.6, 0.8, 1])\n",
    "ax1.set_xlabel('')\n",
    "ax1.set_ylabel('')\n",
    "ax1.tick_params(axis='x', labelrotation=0, labelsize=7)\n",
    "\n",
    "# add a big axis, hide frame\n",
    "fig.add_subplot(111, frameon=False)\n",
    "# hide tick and tick label of the big axis\\n\",\n",
    "plt.tick_params(labelcolor='none', which='both', top=False, bottom=False, left=False, right=False)\n",
    "plt.xlabel(\"\")\n",
    "plt.ylabel('CCC ' + '(' + f'3 SC datasets' + ')', fontsize=7)\n",
    "\n",
    "plt.savefig(os.path.join(fig_dir, '3ds_sample_wise_cccc.svg'), dpi=300)"
   ]
  },
  {
   "cell_type": "code",
   "execution_count": null,
   "id": "c2fb7d09-9a75-4af3-9759-c530e9b6bda5",
   "metadata": {},
   "outputs": [],
   "source": []
  }
 ],
 "metadata": {
  "kernelspec": {
   "display_name": "Python 3 (ipykernel)",
   "language": "python",
   "name": "python3"
  },
  "language_info": {
   "codemirror_mode": {
    "name": "ipython",
    "version": 3
   },
   "file_extension": ".py",
   "mimetype": "text/x-python",
   "name": "python",
   "nbconvert_exporter": "python",
   "pygments_lexer": "ipython3",
   "version": "3.8.13"
  },
  "toc-autonumbering": false
 },
 "nbformat": 4,
 "nbformat_minor": 5
}
